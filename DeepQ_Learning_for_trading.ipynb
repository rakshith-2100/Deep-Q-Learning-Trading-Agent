{
  "cells": [
    {
      "cell_type": "code",
      "execution_count": null,
      "id": "e1b64ccd-b0ca-426f-a58c-41435d141111",
      "metadata": {
        "id": "e1b64ccd-b0ca-426f-a58c-41435d141111"
      },
      "outputs": [],
      "source": [
        "import numpy as np\n",
        "import pandas as pd\n",
        "import random\n",
        "import matplotlib.pyplot as plt\n",
        "import torch\n",
        "import tensorflow as tf\n",
        "import math\n",
        "from tqdm import tqdm_notebook , tqdm\n",
        "from collections import deque"
      ]
    },
    {
      "cell_type": "markdown",
      "id": "582f09f4-b719-440e-a220-0284572edf93",
      "metadata": {
        "id": "582f09f4-b719-440e-a220-0284572edf93"
      },
      "source": [
        "# DataLoading"
      ]
    },
    {
      "cell_type": "code",
      "execution_count": 14,
      "id": "253ba88b-abdf-4f49-ac6a-43e1875ebd9c",
      "metadata": {
        "tags": [],
        "colab": {
          "base_uri": "https://localhost:8080/"
        },
        "id": "253ba88b-abdf-4f49-ac6a-43e1875ebd9c",
        "outputId": "d744a398-d3de-423f-c2a2-f157b9828f84"
      },
      "outputs": [
        {
          "output_type": "stream",
          "name": "stdout",
          "text": [
            "         Date         Open         High          Low        Close  \\\n",
            "0  2011-01-03  6177.450195  6178.549805  6147.200195  6157.600098   \n",
            "1  2011-01-04  6172.750000  6181.049805  6124.399902  6146.350098   \n",
            "2  2011-01-05  6141.350098  6141.350098  6062.350098  6079.799805   \n",
            "3  2011-01-06  6107.000000  6116.149902  6022.299805  6048.250000   \n",
            "4  2011-01-07  6030.899902  6051.200195  5883.600098  5904.600098   \n",
            "\n",
            "     Adj Close  Volume  \n",
            "0  6157.600098     0.0  \n",
            "1  6146.350098     0.0  \n",
            "2  6079.799805     0.0  \n",
            "3  6048.250000     0.0  \n",
            "4  5904.600098     0.0  \n"
          ]
        }
      ],
      "source": [
        "\n",
        "df=pd.read_csv('2011-2019pricedata.csv')#loading Dataset\n",
        "df=df.dropna() #dropping Nan values\n",
        "print(df.head())"
      ]
    },
    {
      "cell_type": "code",
      "execution_count": 15,
      "id": "d90455c2-7dd1-4fab-ace2-63a979529182",
      "metadata": {
        "id": "d90455c2-7dd1-4fab-ace2-63a979529182",
        "outputId": "8a6c7f6d-afee-44db-c124-b4bbca7bbd63",
        "colab": {
          "base_uri": "https://localhost:8080/"
        }
      },
      "outputs": [
        {
          "output_type": "execute_result",
          "data": {
            "text/plain": [
              "2052"
            ]
          },
          "metadata": {},
          "execution_count": 15
        }
      ],
      "source": [
        "# opening price would represent the price at a particular day\n",
        "dataset=list(df['Open'])\n",
        "len(dataset)"
      ]
    },
    {
      "cell_type": "code",
      "execution_count": 16,
      "id": "530b1078-9f55-4baf-aa2c-14e63fe14843",
      "metadata": {
        "tags": [],
        "id": "530b1078-9f55-4baf-aa2c-14e63fe14843"
      },
      "outputs": [],
      "source": [
        "def stock_price_format(n):\n",
        "    if n < 0 :\n",
        "        return '-Rs {:2f}'.format(n)\n",
        "    else :\n",
        "        return '-Rs {:2f}'.format(n)"
      ]
    },
    {
      "cell_type": "markdown",
      "id": "5df9402f-d96f-4a0d-bd70-50042fd0ff12",
      "metadata": {
        "id": "5df9402f-d96f-4a0d-bd70-50042fd0ff12"
      },
      "source": [
        "# Define State"
      ]
    },
    {
      "cell_type": "markdown",
      "id": "0921584f-f808-41e4-8d0b-0bc3c55de4da",
      "metadata": {
        "id": "0921584f-f808-41e4-8d0b-0bc3c55de4da"
      },
      "source": [
        "State would basically include features  like current day price and would also include historical prices which would be used to represent current market conditions"
      ]
    },
    {
      "cell_type": "code",
      "execution_count": 17,
      "id": "b5a5b8c2-bd1a-479c-acec-48f83b17a136",
      "metadata": {
        "tags": [],
        "id": "b5a5b8c2-bd1a-479c-acec-48f83b17a136"
      },
      "outputs": [],
      "source": [
        "def sigmoid(x):\n",
        "    return 1/(1+math.exp(-x))"
      ]
    },
    {
      "cell_type": "code",
      "execution_count": 18,
      "id": "0b9f1ab4-1b7e-49cd-904a-7cd48e339b21",
      "metadata": {
        "tags": [],
        "id": "0b9f1ab4-1b7e-49cd-904a-7cd48e339b21"
      },
      "outputs": [],
      "source": [
        "def state_creator(data, timestep, window_size):\n",
        "    starting_id = timestep - window_size + 1\n",
        "    if starting_id >= 0:\n",
        "        windowed_data = list(data[starting_id:timestep+1])\n",
        "    else:\n",
        "        windowed_data = - starting_id * [data[0]] + list(data[0:timestep+1])\n",
        "    state = []\n",
        "    for i in range(window_size - 1):\n",
        "        #state would basically consider the increase in prices for the past few days\n",
        "        #state would also use sigmoid function to recduce the skewness in the increase of price and ouputs between 0 and 1\n",
        "        state.append(sigmoid(windowed_data[i+1] - windowed_data[i]))\n",
        "    return np.array([state])"
      ]
    },
    {
      "cell_type": "markdown",
      "id": "df5bb71b-9a5b-4679-9762-1f49d425da38",
      "metadata": {
        "id": "df5bb71b-9a5b-4679-9762-1f49d425da38"
      },
      "source": [
        "# Building the Trader and Model"
      ]
    },
    {
      "cell_type": "code",
      "execution_count": 19,
      "id": "4b08be67-1c31-4e32-82ab-8b21ceda3de1",
      "metadata": {
        "tags": [],
        "id": "4b08be67-1c31-4e32-82ab-8b21ceda3de1"
      },
      "outputs": [],
      "source": [
        "class ModelandTrade:\n",
        "\n",
        "    def __init__(self, state_size, action_space=3, model_name=\"ModelandTrade\"):\n",
        "\n",
        "        self.state_size = state_size\n",
        "        self.action_space = action_space\n",
        "        self.model_name = model_name\n",
        "        self.inventory = []\n",
        "        self.memory = deque(maxlen=2000)\n",
        "        #exploration parameters\n",
        "        self.gamma = 0.95\n",
        "        self.epsilon = 1.0\n",
        "        self.epsilon_final = 0.01\n",
        "        self.epsilon_decay = 0.995\n",
        "        #model creation\n",
        "        self.model = self.model_builder()\n",
        "\n",
        "    def model_builder(self):\n",
        "        model = tf.keras.models.Sequential()\n",
        "        model.add(tf.keras.layers.Dense(units=32, activation='relu', input_dim=self.state_size))\n",
        "        model.add(tf.keras.layers.Dense(units=64, activation='relu'))\n",
        "        model.add(tf.keras.layers.Dense(units=128, activation='relu'))\n",
        "        model.add(tf.keras.layers.Dense(units=self.action_space, activation='linear'))\n",
        "        #mean Square error\n",
        "        model.compile(loss='mse', optimizer=tf.keras.optimizers.Adam(lr=0.001))\n",
        "\n",
        "        return model\n",
        "\n",
        "    def trade(self, state):\n",
        "        #exploration\n",
        "        if random.random() <= self.epsilon:\n",
        "            return random.randrange(self.action_space)\n",
        "        #exploitation\n",
        "\n",
        "        Q_value=self.model.predict(state,verbose=0)\n",
        "        return np.argmax(Q_value[0])\n",
        "\n",
        "    def batch_train(self,batch_size):\n",
        "        batch = []\n",
        "        for i in range(len(self.memory) - batch_size + 1, len(self.memory)):\n",
        "            batch.append(self.memory[i])\n",
        "\n",
        "        for state, action, reward, next_state, done in batch:\n",
        "            Q_target=reward\n",
        "            if not done:\n",
        "                #q_target found using belman equation\n",
        "                Q_target = reward + self.gamma * np.amax(self.model.predict(next_state,verbose=0)[0])\n",
        "            target = self.model.predict(state,verbose=0)\n",
        "            target[0][action] = Q_target\n",
        "            #fitting the model\n",
        "            self.model.fit(state, target, epochs=1, verbose=0)\n",
        "            #Mean Square Error Loss\n",
        "\n",
        "        if self.epsilon > self.epsilon_final:\n",
        "            self.epsilon *= self.epsilon_decay"
      ]
    },
    {
      "cell_type": "markdown",
      "id": "15e64657-e798-4a29-851c-aba10f54e99d",
      "metadata": {
        "id": "15e64657-e798-4a29-851c-aba10f54e99d"
      },
      "source": [
        "## Hyperparmeters"
      ]
    },
    {
      "cell_type": "code",
      "execution_count": 20,
      "id": "d1070088-fd41-426c-be5e-b723a77f8f8b",
      "metadata": {
        "tags": [],
        "id": "d1070088-fd41-426c-be5e-b723a77f8f8b"
      },
      "outputs": [],
      "source": [
        "window_size = 10\n",
        "episodes = 1000\n",
        "\n",
        "batch_size = 32\n",
        "data_samples = len(dataset) - 1"
      ]
    },
    {
      "cell_type": "code",
      "execution_count": 21,
      "id": "43cdb2bd-e67c-4b62-98f5-aedfe12d8dfe",
      "metadata": {
        "tags": [],
        "id": "43cdb2bd-e67c-4b62-98f5-aedfe12d8dfe",
        "outputId": "2e996246-68e6-46aa-e9cf-0fde4158c2a6",
        "colab": {
          "base_uri": "https://localhost:8080/"
        }
      },
      "outputs": [
        {
          "output_type": "stream",
          "name": "stderr",
          "text": [
            "WARNING:absl:`lr` is deprecated in Keras optimizer, please use `learning_rate` or use the legacy optimizer, e.g.,tf.keras.optimizers.legacy.Adam.\n"
          ]
        }
      ],
      "source": [
        "trader=ModelandTrade(window_size)"
      ]
    },
    {
      "cell_type": "markdown",
      "id": "efb3e47e-ebe5-44e8-b860-ab430e78d55f",
      "metadata": {
        "id": "efb3e47e-ebe5-44e8-b860-ab430e78d55f"
      },
      "source": [
        "# Reward function"
      ]
    },
    {
      "cell_type": "code",
      "execution_count": 22,
      "id": "5c8f2528-a543-4206-9e98-fd460ec3f095",
      "metadata": {
        "tags": [],
        "id": "5c8f2528-a543-4206-9e98-fd460ec3f095"
      },
      "outputs": [],
      "source": [
        "def RewardFunction(action, dataset, datasamples, t, total_profit):\n",
        "        reward=0\n",
        "        if action == 1: #Buying\n",
        "            trader.inventory.append(dataset[t])\n",
        "            print(\"AI Trader bought: \", stock_price_format(dataset[t]))\n",
        "\n",
        "        elif action == 2 and len(trader.inventory) > 0: #Selling\n",
        "            buy_price = trader.inventory.pop(0)\n",
        "\n",
        "            reward = max(dataset[t] - buy_price, 0)\n",
        "            total_profit += dataset[t] - buy_price\n",
        "            print(\"AI Trader sold: \", stock_price_format(dataset[t]), \" Profit: \" + stock_price_format(dataset[t] - buy_price) )\n",
        "\n",
        "        if t == data_samples - 1:\n",
        "            done = True\n",
        "        else:\n",
        "            done = False\n",
        "\n",
        "        return reward, done, total_profit\n"
      ]
    },
    {
      "cell_type": "markdown",
      "id": "981fdc7c-a05c-42f4-8c43-a60af32b456c",
      "metadata": {
        "id": "981fdc7c-a05c-42f4-8c43-a60af32b456c"
      },
      "source": [
        "# Training the Dataset"
      ]
    },
    {
      "cell_type": "code",
      "execution_count": null,
      "id": "136166fb-3ce6-4ebb-b136-66343473d57c",
      "metadata": {
        "tags": [],
        "id": "136166fb-3ce6-4ebb-b136-66343473d57c",
        "outputId": "86306d3d-a72b-4d66-a3c6-5c051e6d2276",
        "colab": {
          "base_uri": "https://localhost:8080/"
        }
      },
      "outputs": [
        {
          "output_type": "stream",
          "name": "stderr",
          "text": [
            "\r  0%|          | 0/2051 [00:00<?, ?it/s]"
          ]
        },
        {
          "output_type": "stream",
          "name": "stdout",
          "text": [
            "AI Trader bought:  -Rs 6177.450195\n",
            "AI Trader bought:  -Rs 6141.350098\n",
            "AI Trader sold:  -Rs 6107.000000  Profit: -Rs -70.450195\n",
            "AI Trader bought:  -Rs 6030.899902\n",
            "AI Trader bought:  -Rs 5901.299805\n",
            "AI Trader bought:  -Rs 5767.950195\n",
            "AI Trader sold:  -Rs 5850.750000  Profit: -Rs -290.600098\n",
            "AI Trader bought:  -Rs 5648.799805\n",
            "AI Trader bought:  -Rs 5692.049805\n",
            "AI Trader sold:  -Rs 5717.100098  Profit: -Rs -313.799804\n",
            "AI Trader bought:  -Rs 5763.299805\n",
            "AI Trader sold:  -Rs 5614.000000  Profit: -Rs -287.299805\n",
            "AI Trader bought:  -Rs 5469.549805\n",
            "AI Trader bought:  -Rs 5430.450195\n",
            "AI Trader bought:  -Rs 5519.899902\n",
            "AI Trader bought:  -Rs 5432.350098\n",
            "AI Trader sold:  -Rs 5293.049805  Profit: -Rs -474.900390\n",
            "AI Trader bought:  -Rs 5246.049805\n",
            "AI Trader bought:  -Rs 5340.250000\n",
            "AI Trader bought:  -Rs 5467.750000\n",
            "AI Trader bought:  -Rs 5467.600098\n",
            "AI Trader sold:  -Rs 5501.700195  Profit: -Rs -147.099610\n"
          ]
        },
        {
          "output_type": "stream",
          "name": "stderr",
          "text": [
            "\r  2%|▏         | 33/2051 [00:08<09:10,  3.67it/s]"
          ]
        },
        {
          "output_type": "stream",
          "name": "stdout",
          "text": [
            "AI Trader sold:  -Rs 5557.549805  Profit: -Rs -134.500000\n"
          ]
        },
        {
          "output_type": "stream",
          "name": "stderr",
          "text": [
            "\r  2%|▏         | 34/2051 [00:17<21:16,  1.58it/s]"
          ]
        },
        {
          "output_type": "stream",
          "name": "stdout",
          "text": [
            "AI Trader sold:  -Rs 5456.600098  Profit: -Rs -306.699707\n"
          ]
        },
        {
          "output_type": "stream",
          "name": "stderr",
          "text": [
            "  2%|▏         | 36/2051 [00:33<50:13,  1.50s/it]"
          ]
        },
        {
          "output_type": "stream",
          "name": "stdout",
          "text": [
            "AI Trader bought:  -Rs 5452.450195\n"
          ]
        },
        {
          "output_type": "stream",
          "name": "stderr",
          "text": [
            "\r  2%|▏         | 37/2051 [00:40<1:10:09,  2.09s/it]"
          ]
        },
        {
          "output_type": "stream",
          "name": "stdout",
          "text": [
            "AI Trader bought:  -Rs 5408.750000\n"
          ]
        },
        {
          "output_type": "stream",
          "name": "stderr",
          "text": [
            "\r  2%|▏         | 38/2051 [00:48<1:31:12,  2.72s/it]"
          ]
        },
        {
          "output_type": "stream",
          "name": "stdout",
          "text": [
            "AI Trader bought:  -Rs 5321.049805\n"
          ]
        },
        {
          "output_type": "stream",
          "name": "stderr",
          "text": [
            "\r  2%|▏         | 39/2051 [00:54<1:50:26,  3.29s/it]"
          ]
        },
        {
          "output_type": "stream",
          "name": "stdout",
          "text": [
            "AI Trader sold:  -Rs 5330.149902  Profit: -Rs -139.399903\n"
          ]
        },
        {
          "output_type": "stream",
          "name": "stderr",
          "text": [
            "\r  2%|▏         | 40/2051 [01:02<2:13:50,  3.99s/it]"
          ]
        },
        {
          "output_type": "stream",
          "name": "stdout",
          "text": [
            "AI Trader bought:  -Rs 5382.000000\n"
          ]
        },
        {
          "output_type": "stream",
          "name": "stderr",
          "text": [
            "\r  2%|▏         | 41/2051 [01:08<2:30:35,  4.50s/it]"
          ]
        },
        {
          "output_type": "stream",
          "name": "stdout",
          "text": [
            "AI Trader bought:  -Rs 5478.450195\n"
          ]
        },
        {
          "output_type": "stream",
          "name": "stderr",
          "text": [
            "\r  2%|▏         | 42/2051 [01:16<2:53:32,  5.18s/it]"
          ]
        },
        {
          "output_type": "stream",
          "name": "stdout",
          "text": [
            "AI Trader sold:  -Rs 5586.200195  Profit: -Rs 155.750000\n"
          ]
        },
        {
          "output_type": "stream",
          "name": "stderr",
          "text": [
            "\r  2%|▏         | 43/2051 [01:22<3:04:41,  5.52s/it]"
          ]
        },
        {
          "output_type": "stream",
          "name": "stdout",
          "text": [
            "AI Trader sold:  -Rs 5490.049805  Profit: -Rs -29.850097\n"
          ]
        },
        {
          "output_type": "stream",
          "name": "stderr",
          "text": [
            "  2%|▏         | 45/2051 [01:36<3:25:11,  6.14s/it]"
          ]
        },
        {
          "output_type": "stream",
          "name": "stdout",
          "text": [
            "AI Trader bought:  -Rs 5542.399902\n"
          ]
        },
        {
          "output_type": "stream",
          "name": "stderr",
          "text": [
            "  2%|▏         | 47/2051 [01:50<3:37:14,  6.50s/it]"
          ]
        },
        {
          "output_type": "stream",
          "name": "stdout",
          "text": [
            "AI Trader bought:  -Rs 5456.149902\n"
          ]
        },
        {
          "output_type": "stream",
          "name": "stderr",
          "text": [
            "\r  2%|▏         | 48/2051 [01:59<3:54:00,  7.01s/it]"
          ]
        },
        {
          "output_type": "stream",
          "name": "stdout",
          "text": [
            "AI Trader sold:  -Rs 5436.500000  Profit: -Rs 4.149902\n"
          ]
        },
        {
          "output_type": "stream",
          "name": "stderr",
          "text": [
            "\r  2%|▏         | 49/2051 [02:06<3:55:58,  7.07s/it]"
          ]
        },
        {
          "output_type": "stream",
          "name": "stdout",
          "text": [
            "AI Trader sold:  -Rs 5420.000000  Profit: -Rs 173.950195\n"
          ]
        },
        {
          "output_type": "stream",
          "name": "stderr",
          "text": [
            "\r  2%|▏         | 50/2051 [02:14<4:02:05,  7.26s/it]"
          ]
        },
        {
          "output_type": "stream",
          "name": "stdout",
          "text": [
            "AI Trader bought:  -Rs 5475.950195\n"
          ]
        },
        {
          "output_type": "stream",
          "name": "stderr",
          "text": [
            "  3%|▎         | 52/2051 [02:27<3:57:48,  7.14s/it]"
          ]
        },
        {
          "output_type": "stream",
          "name": "stdout",
          "text": [
            "AI Trader sold:  -Rs 5475.350098  Profit: -Rs 135.100098\n"
          ]
        },
        {
          "output_type": "stream",
          "name": "stderr",
          "text": [
            "\r  3%|▎         | 53/2051 [02:34<3:49:28,  6.89s/it]"
          ]
        },
        {
          "output_type": "stream",
          "name": "stdout",
          "text": [
            "AI Trader sold:  -Rs 5408.750000  Profit: -Rs -59.000000\n"
          ]
        },
        {
          "output_type": "stream",
          "name": "stderr",
          "text": [
            "\r  3%|▎         | 54/2051 [02:41<3:55:08,  7.06s/it]"
          ]
        },
        {
          "output_type": "stream",
          "name": "stdout",
          "text": [
            "AI Trader sold:  -Rs 5390.850098  Profit: -Rs -76.750000\n"
          ]
        },
        {
          "output_type": "stream",
          "name": "stderr",
          "text": [
            "\r  3%|▎         | 55/2051 [02:47<3:46:23,  6.81s/it]"
          ]
        },
        {
          "output_type": "stream",
          "name": "stdout",
          "text": [
            "AI Trader bought:  -Rs 5411.399902\n"
          ]
        },
        {
          "output_type": "stream",
          "name": "stderr",
          "text": [
            "  3%|▎         | 60/2051 [03:24<4:06:56,  7.44s/it]"
          ]
        },
        {
          "output_type": "stream",
          "name": "stdout",
          "text": [
            "AI Trader sold:  -Rs 5755.799805  Profit: -Rs 303.349610\n"
          ]
        },
        {
          "output_type": "stream",
          "name": "stderr",
          "text": [
            "\r  3%|▎         | 61/2051 [03:32<4:12:52,  7.62s/it]"
          ]
        },
        {
          "output_type": "stream",
          "name": "stdout",
          "text": [
            "AI Trader bought:  -Rs 5803.049805\n"
          ]
        },
        {
          "output_type": "stream",
          "name": "stderr",
          "text": [
            "  3%|▎         | 63/2051 [03:46<4:02:04,  7.31s/it]"
          ]
        },
        {
          "output_type": "stream",
          "name": "stdout",
          "text": [
            "AI Trader sold:  -Rs 5842.000000  Profit: -Rs 433.250000\n"
          ]
        },
        {
          "output_type": "stream",
          "name": "stderr",
          "text": [
            "\r  3%|▎         | 64/2051 [03:53<3:54:46,  7.09s/it]"
          ]
        },
        {
          "output_type": "stream",
          "name": "stdout",
          "text": [
            "AI Trader sold:  -Rs 5923.850098  Profit: -Rs 602.800293\n"
          ]
        },
        {
          "output_type": "stream",
          "name": "stderr",
          "text": [
            "\r  3%|▎         | 65/2051 [04:00<3:58:55,  7.22s/it]"
          ]
        },
        {
          "output_type": "stream",
          "name": "stdout",
          "text": [
            "AI Trader bought:  -Rs 5908.000000\n"
          ]
        },
        {
          "output_type": "stream",
          "name": "stderr",
          "text": [
            "\r  3%|▎         | 66/2051 [04:07<3:51:41,  7.00s/it]"
          ]
        },
        {
          "output_type": "stream",
          "name": "stdout",
          "text": [
            "AI Trader sold:  -Rs 5888.549805  Profit: -Rs 506.549805\n"
          ]
        },
        {
          "output_type": "stream",
          "name": "stderr",
          "text": [
            "\r  3%|▎         | 67/2051 [04:15<4:01:01,  7.29s/it]"
          ]
        },
        {
          "output_type": "stream",
          "name": "stdout",
          "text": [
            "AI Trader bought:  -Rs 5886.750000\n"
          ]
        },
        {
          "output_type": "stream",
          "name": "stderr",
          "text": [
            "\r  3%|▎         | 68/2051 [04:21<3:56:44,  7.16s/it]"
          ]
        },
        {
          "output_type": "stream",
          "name": "stdout",
          "text": [
            "AI Trader bought:  -Rs 5805.350098\n"
          ]
        },
        {
          "output_type": "stream",
          "name": "stderr",
          "text": [
            "  4%|▎         | 72/2051 [04:54<4:15:50,  7.76s/it]"
          ]
        },
        {
          "output_type": "stream",
          "name": "stdout",
          "text": [
            "AI Trader bought:  -Rs 5716.000000\n"
          ]
        },
        {
          "output_type": "stream",
          "name": "stderr",
          "text": [
            "  4%|▎         | 74/2051 [05:08<4:02:50,  7.37s/it]"
          ]
        },
        {
          "output_type": "stream",
          "name": "stdout",
          "text": [
            "AI Trader sold:  -Rs 5882.850098  Profit: -Rs 404.399903\n"
          ]
        },
        {
          "output_type": "stream",
          "name": "stderr",
          "text": [
            "  4%|▎         | 76/2051 [05:22<3:57:32,  7.22s/it]"
          ]
        },
        {
          "output_type": "stream",
          "name": "stdout",
          "text": [
            "AI Trader sold:  -Rs 5876.850098  Profit: -Rs 334.450196\n"
          ]
        },
        {
          "output_type": "stream",
          "name": "stderr",
          "text": [
            "\r  4%|▍         | 77/2051 [05:29<3:55:50,  7.17s/it]"
          ]
        },
        {
          "output_type": "stream",
          "name": "stdout",
          "text": [
            "AI Trader sold:  -Rs 5884.200195  Profit: -Rs 428.050293\n"
          ]
        },
        {
          "output_type": "stream",
          "name": "stderr",
          "text": [
            "\r  4%|▍         | 78/2051 [05:36<3:51:16,  7.03s/it]"
          ]
        },
        {
          "output_type": "stream",
          "name": "stdout",
          "text": [
            "AI Trader bought:  -Rs 5851.350098\n"
          ]
        },
        {
          "output_type": "stream",
          "name": "stderr",
          "text": [
            "\r  4%|▍         | 79/2051 [05:43<3:49:47,  6.99s/it]"
          ]
        },
        {
          "output_type": "stream",
          "name": "stdout",
          "text": [
            "AI Trader sold:  -Rs 5782.500000  Profit: -Rs 306.549805\n"
          ]
        },
        {
          "output_type": "stream",
          "name": "stderr",
          "text": [
            "  4%|▍         | 82/2051 [06:04<3:50:33,  7.03s/it]"
          ]
        },
        {
          "output_type": "stream",
          "name": "stdout",
          "text": [
            "AI Trader bought:  -Rs 5567.700195\n"
          ]
        },
        {
          "output_type": "stream",
          "name": "stderr",
          "text": [
            "  4%|▍         | 84/2051 [06:19<4:06:08,  7.51s/it]"
          ]
        },
        {
          "output_type": "stream",
          "name": "stdout",
          "text": [
            "AI Trader sold:  -Rs 5477.649902  Profit: -Rs 66.250000\n"
          ]
        },
        {
          "output_type": "stream",
          "name": "stderr",
          "text": [
            "\r  4%|▍         | 85/2051 [06:26<3:54:17,  7.15s/it]"
          ]
        },
        {
          "output_type": "stream",
          "name": "stdout",
          "text": [
            "AI Trader bought:  -Rs 5575.200195\n"
          ]
        },
        {
          "output_type": "stream",
          "name": "stderr",
          "text": [
            "  4%|▍         | 89/2051 [06:54<3:47:27,  6.96s/it]"
          ]
        },
        {
          "output_type": "stream",
          "name": "stdout",
          "text": [
            "AI Trader bought:  -Rs 5492.350098\n"
          ]
        },
        {
          "output_type": "stream",
          "name": "stderr",
          "text": [
            "\r  4%|▍         | 90/2051 [07:02<3:56:05,  7.22s/it]"
          ]
        },
        {
          "output_type": "stream",
          "name": "stdout",
          "text": [
            "AI Trader sold:  -Rs 5541.700195  Profit: -Rs -261.349610\n"
          ]
        },
        {
          "output_type": "stream",
          "name": "stderr",
          "text": [
            "\r  4%|▍         | 91/2051 [07:08<3:47:13,  6.96s/it]"
          ]
        },
        {
          "output_type": "stream",
          "name": "stdout",
          "text": [
            "AI Trader bought:  -Rs 5496.100098\n"
          ]
        },
        {
          "output_type": "stream",
          "name": "stderr",
          "text": [
            "  5%|▍         | 95/2051 [07:38<4:01:35,  7.41s/it]"
          ]
        },
        {
          "output_type": "stream",
          "name": "stdout",
          "text": [
            "AI Trader sold:  -Rs 5456.700195  Profit: -Rs -451.299805\n"
          ]
        },
        {
          "output_type": "stream",
          "name": "stderr",
          "text": [
            "  5%|▍         | 98/2051 [08:00<3:59:12,  7.35s/it]"
          ]
        },
        {
          "output_type": "stream",
          "name": "stdout",
          "text": [
            "AI Trader sold:  -Rs 5372.750000  Profit: -Rs -514.000000\n"
          ]
        },
        {
          "output_type": "stream",
          "name": "stderr",
          "text": [
            "\r  5%|▍         | 99/2051 [08:07<3:55:31,  7.24s/it]"
          ]
        },
        {
          "output_type": "stream",
          "name": "stdout",
          "text": [
            "AI Trader sold:  -Rs 5413.700195  Profit: -Rs -391.649903\n"
          ]
        },
        {
          "output_type": "stream",
          "name": "stderr",
          "text": [
            "\r  5%|▍         | 100/2051 [08:14<3:53:41,  7.19s/it]"
          ]
        },
        {
          "output_type": "stream",
          "name": "stdout",
          "text": [
            "AI Trader bought:  -Rs 5493.750000\n"
          ]
        },
        {
          "output_type": "stream",
          "name": "stderr",
          "text": [
            "\r  5%|▍         | 101/2051 [08:21<3:52:13,  7.15s/it]"
          ]
        },
        {
          "output_type": "stream",
          "name": "stdout",
          "text": [
            "AI Trader bought:  -Rs 5561.049805\n"
          ]
        },
        {
          "output_type": "stream",
          "name": "stderr",
          "text": [
            "  5%|▌         | 103/2051 [08:35<3:50:23,  7.10s/it]"
          ]
        },
        {
          "output_type": "stream",
          "name": "stdout",
          "text": [
            "AI Trader sold:  -Rs 5565.700195  Profit: -Rs -150.299805\n"
          ]
        },
        {
          "output_type": "stream",
          "name": "stderr",
          "text": [
            "\r  5%|▌         | 104/2051 [08:42<3:47:39,  7.02s/it]"
          ]
        },
        {
          "output_type": "stream",
          "name": "stdout",
          "text": [
            "AI Trader bought:  -Rs 5504.299805\n"
          ]
        },
        {
          "output_type": "stream",
          "name": "stderr",
          "text": [
            "  5%|▌         | 106/2051 [08:58<4:04:53,  7.55s/it]"
          ]
        },
        {
          "output_type": "stream",
          "name": "stdout",
          "text": [
            "AI Trader bought:  -Rs 5535.250000\n"
          ]
        },
        {
          "output_type": "stream",
          "name": "stderr",
          "text": [
            "  5%|▌         | 108/2051 [09:13<4:02:31,  7.49s/it]"
          ]
        },
        {
          "output_type": "stream",
          "name": "stdout",
          "text": [
            "AI Trader sold:  -Rs 5518.049805  Profit: -Rs -333.300293\n"
          ]
        },
        {
          "output_type": "stream",
          "name": "stderr",
          "text": [
            "  5%|▌         | 112/2051 [09:42<3:48:50,  7.08s/it]"
          ]
        },
        {
          "output_type": "stream",
          "name": "stdout",
          "text": [
            "AI Trader sold:  -Rs 5419.649902  Profit: -Rs -148.050293\n"
          ]
        },
        {
          "output_type": "stream",
          "name": "stderr",
          "text": [
            "  6%|▌         | 116/2051 [10:10<3:45:40,  7.00s/it]"
          ]
        },
        {
          "output_type": "stream",
          "name": "stdout",
          "text": [
            "AI Trader sold:  -Rs 5304.649902  Profit: -Rs -270.550293\n"
          ]
        },
        {
          "output_type": "stream",
          "name": "stderr",
          "text": [
            "  6%|▌         | 119/2051 [10:34<4:04:27,  7.59s/it]"
          ]
        },
        {
          "output_type": "stream",
          "name": "stdout",
          "text": [
            "AI Trader sold:  -Rs 5441.200195  Profit: -Rs -51.149903\n"
          ]
        },
        {
          "output_type": "stream",
          "name": "stderr",
          "text": [
            "  6%|▌         | 122/2051 [10:56<3:58:15,  7.41s/it]"
          ]
        },
        {
          "output_type": "stream",
          "name": "stdout",
          "text": [
            "AI Trader sold:  -Rs 5614.500000  Profit: -Rs 118.399902\n"
          ]
        },
        {
          "output_type": "stream",
          "name": "stderr",
          "text": [
            "  6%|▌         | 124/2051 [11:10<3:55:28,  7.33s/it]"
          ]
        },
        {
          "output_type": "stream",
          "name": "stdout",
          "text": [
            "AI Trader bought:  -Rs 5679.549805\n"
          ]
        },
        {
          "output_type": "stream",
          "name": "stderr",
          "text": [
            "  6%|▌         | 127/2051 [11:31<3:48:21,  7.12s/it]"
          ]
        },
        {
          "output_type": "stream",
          "name": "stdout",
          "text": [
            "AI Trader sold:  -Rs 5633.350098  Profit: -Rs 139.600098\n"
          ]
        },
        {
          "output_type": "stream",
          "name": "stderr",
          "text": [
            "  6%|▋         | 131/2051 [12:02<4:07:12,  7.73s/it]"
          ]
        },
        {
          "output_type": "stream",
          "name": "stdout",
          "text": [
            "AI Trader bought:  -Rs 5542.049805\n"
          ]
        },
        {
          "output_type": "stream",
          "name": "stderr",
          "text": [
            "\r  6%|▋         | 132/2051 [12:09<3:59:39,  7.49s/it]"
          ]
        },
        {
          "output_type": "stream",
          "name": "stdout",
          "text": [
            "AI Trader bought:  -Rs 5602.950195\n"
          ]
        },
        {
          "output_type": "stream",
          "name": "stderr",
          "text": [
            "  7%|▋         | 136/2051 [12:38<3:46:47,  7.11s/it]"
          ]
        },
        {
          "output_type": "stream",
          "name": "stdout",
          "text": [
            "AI Trader sold:  -Rs 5554.600098  Profit: -Rs -6.449707\n"
          ]
        },
        {
          "output_type": "stream",
          "name": "stderr",
          "text": [
            "\r  7%|▋         | 137/2051 [12:45<3:53:09,  7.31s/it]"
          ]
        },
        {
          "output_type": "stream",
          "name": "stdout",
          "text": [
            "AI Trader sold:  -Rs 5576.950195  Profit: -Rs 72.650390\n"
          ]
        },
        {
          "output_type": "stream",
          "name": "stderr",
          "text": [
            "\r  7%|▋         | 138/2051 [12:52<3:43:53,  7.02s/it]"
          ]
        },
        {
          "output_type": "stream",
          "name": "stdout",
          "text": [
            "AI Trader sold:  -Rs 5633.799805  Profit: -Rs 98.549805\n"
          ]
        },
        {
          "output_type": "stream",
          "name": "stderr",
          "text": [
            "\r  7%|▋         | 139/2051 [12:59<3:49:55,  7.22s/it]"
          ]
        },
        {
          "output_type": "stream",
          "name": "stdout",
          "text": [
            "AI Trader sold:  -Rs 5688.450195  Profit: -Rs 8.900390\n"
          ]
        },
        {
          "output_type": "stream",
          "name": "stderr",
          "text": [
            "\r  7%|▋         | 140/2051 [13:07<3:54:31,  7.36s/it]"
          ]
        },
        {
          "output_type": "stream",
          "name": "stdout",
          "text": [
            "AI Trader sold:  -Rs 5588.549805  Profit: -Rs 46.500000\n"
          ]
        },
        {
          "output_type": "stream",
          "name": "stderr",
          "text": [
            "\r  7%|▋         | 141/2051 [13:15<4:04:05,  7.67s/it]"
          ]
        },
        {
          "output_type": "stream",
          "name": "stdout",
          "text": [
            "AI Trader sold:  -Rs 5492.399902  Profit: -Rs -110.550293\n"
          ]
        },
        {
          "output_type": "stream",
          "name": "stderr",
          "text": [
            "  7%|▋         | 145/2051 [13:45<3:52:10,  7.31s/it]"
          ]
        },
        {
          "output_type": "stream",
          "name": "stdout",
          "text": [
            "AI Trader bought:  -Rs 5402.000000\n"
          ]
        },
        {
          "output_type": "stream",
          "name": "stderr",
          "text": [
            "\r  7%|▋         | 146/2051 [13:52<3:47:13,  7.16s/it]"
          ]
        },
        {
          "output_type": "stream",
          "name": "stdout",
          "text": [
            "AI Trader bought:  -Rs 5412.399902\n"
          ]
        },
        {
          "output_type": "stream",
          "name": "stderr",
          "text": [
            "\r  7%|▋         | 147/2051 [13:59<3:47:16,  7.16s/it]"
          ]
        },
        {
          "output_type": "stream",
          "name": "stdout",
          "text": [
            "AI Trader bought:  -Rs 5204.350098\n"
          ]
        },
        {
          "output_type": "stream",
          "name": "stderr",
          "text": [
            "\r  7%|▋         | 148/2051 [14:06<3:44:17,  7.07s/it]"
          ]
        },
        {
          "output_type": "stream",
          "name": "stdout",
          "text": [
            "AI Trader sold:  -Rs 5083.850098  Profit: -Rs -318.149902\n"
          ]
        },
        {
          "output_type": "stream",
          "name": "stderr",
          "text": [
            "\r  7%|▋         | 149/2051 [14:13<3:45:36,  7.12s/it]"
          ]
        },
        {
          "output_type": "stream",
          "name": "stdout",
          "text": [
            "AI Trader sold:  -Rs 4947.899902  Profit: -Rs -464.500000\n"
          ]
        },
        {
          "output_type": "stream",
          "name": "stderr",
          "text": [
            "\r  7%|▋         | 150/2051 [14:20<3:47:24,  7.18s/it]"
          ]
        },
        {
          "output_type": "stream",
          "name": "stdout",
          "text": [
            "AI Trader bought:  -Rs 5196.549805\n"
          ]
        },
        {
          "output_type": "stream",
          "name": "stderr",
          "text": [
            "  7%|▋         | 152/2051 [14:34<3:46:12,  7.15s/it]"
          ]
        },
        {
          "output_type": "stream",
          "name": "stdout",
          "text": [
            "AI Trader sold:  -Rs 5194.399902  Profit: -Rs -9.950196\n"
          ]
        },
        {
          "output_type": "stream",
          "name": "stderr",
          "text": [
            "\r  7%|▋         | 153/2051 [14:42<3:51:31,  7.32s/it]"
          ]
        },
        {
          "output_type": "stream",
          "name": "stdout",
          "text": [
            "AI Trader sold:  -Rs 5125.750000  Profit: -Rs -70.799805\n"
          ]
        },
        {
          "output_type": "stream",
          "name": "stderr",
          "text": [
            "  8%|▊         | 172/2051 [16:58<3:38:18,  6.97s/it]"
          ]
        },
        {
          "output_type": "stream",
          "name": "stdout",
          "text": [
            "AI Trader bought:  -Rs 4965.049805\n"
          ]
        },
        {
          "output_type": "stream",
          "name": "stderr",
          "text": [
            "  9%|▊         | 176/2051 [17:29<4:00:32,  7.70s/it]"
          ]
        },
        {
          "output_type": "stream",
          "name": "stdout",
          "text": [
            "AI Trader sold:  -Rs 5042.549805  Profit: -Rs 77.500000\n"
          ]
        },
        {
          "output_type": "stream",
          "name": "stderr",
          "text": [
            "  9%|▊         | 179/2051 [17:52<3:55:50,  7.56s/it]"
          ]
        },
        {
          "output_type": "stream",
          "name": "stdout",
          "text": [
            "AI Trader bought:  -Rs 4873.750000\n"
          ]
        },
        {
          "output_type": "stream",
          "name": "stderr",
          "text": [
            "  9%|▉         | 185/2051 [18:34<3:40:17,  7.08s/it]"
          ]
        },
        {
          "output_type": "stream",
          "name": "stdout",
          "text": [
            "AI Trader bought:  -Rs 4874.399902\n"
          ]
        },
        {
          "output_type": "stream",
          "name": "stderr",
          "text": [
            "  9%|▉         | 190/2051 [19:12<3:50:59,  7.45s/it]"
          ]
        },
        {
          "output_type": "stream",
          "name": "stdout",
          "text": [
            "AI Trader bought:  -Rs 5019.899902\n"
          ]
        },
        {
          "output_type": "stream",
          "name": "stderr",
          "text": [
            "\r  9%|▉         | 191/2051 [19:18<3:41:49,  7.16s/it]"
          ]
        },
        {
          "output_type": "stream",
          "name": "stdout",
          "text": [
            "AI Trader sold:  -Rs 5011.200195  Profit: -Rs 137.450195\n"
          ]
        },
        {
          "output_type": "stream",
          "name": "stderr",
          "text": [
            " 10%|▉         | 196/2051 [19:54<3:40:14,  7.12s/it]"
          ]
        },
        {
          "output_type": "stream",
          "name": "stdout",
          "text": [
            "AI Trader bought:  -Rs 5080.450195\n"
          ]
        },
        {
          "output_type": "stream",
          "name": "stderr",
          "text": [
            " 10%|▉         | 201/2051 [20:31<3:49:39,  7.45s/it]"
          ]
        },
        {
          "output_type": "stream",
          "name": "stdout",
          "text": [
            "AI Trader sold:  -Rs 5341.899902  Profit: -Rs 467.500000\n"
          ]
        },
        {
          "output_type": "stream",
          "name": "stderr",
          "text": [
            "\r 10%|▉         | 202/2051 [20:37<3:44:02,  7.27s/it]"
          ]
        },
        {
          "output_type": "stream",
          "name": "stdout",
          "text": [
            "AI Trader sold:  -Rs 5358.899902  Profit: -Rs 339.000000\n"
          ]
        },
        {
          "output_type": "stream",
          "name": "stderr",
          "text": [
            "\r 10%|▉         | 203/2051 [20:45<3:43:17,  7.25s/it]"
          ]
        },
        {
          "output_type": "stream",
          "name": "stdout",
          "text": [
            "AI Trader sold:  -Rs 5278.600098  Profit: -Rs 198.149903\n"
          ]
        },
        {
          "output_type": "stream",
          "name": "stderr",
          "text": [
            " 10%|█         | 209/2051 [21:27<3:40:02,  7.17s/it]"
          ]
        },
        {
          "output_type": "stream",
          "name": "stdout",
          "text": [
            "AI Trader bought:  -Rs 5159.750000\n"
          ]
        },
        {
          "output_type": "stream",
          "name": "stderr",
          "text": [
            "\r 10%|█         | 210/2051 [21:34<3:33:55,  6.97s/it]"
          ]
        },
        {
          "output_type": "stream",
          "name": "stdout",
          "text": [
            "AI Trader bought:  -Rs 5217.350098\n"
          ]
        },
        {
          "output_type": "stream",
          "name": "stderr",
          "text": [
            "\r 10%|█         | 211/2051 [21:43<3:59:28,  7.81s/it]"
          ]
        },
        {
          "output_type": "stream",
          "name": "stdout",
          "text": [
            "AI Trader bought:  -Rs 5131.200195\n"
          ]
        },
        {
          "output_type": "stream",
          "name": "stderr",
          "text": [
            "\r 10%|█         | 212/2051 [21:51<3:53:38,  7.62s/it]"
          ]
        },
        {
          "output_type": "stream",
          "name": "stdout",
          "text": [
            "AI Trader bought:  -Rs 5059.100098\n"
          ]
        },
        {
          "output_type": "stream",
          "name": "stderr",
          "text": [
            "\r 10%|█         | 213/2051 [21:58<3:53:21,  7.62s/it]"
          ]
        },
        {
          "output_type": "stream",
          "name": "stdout",
          "text": [
            "AI Trader bought:  -Rs 5027.100098\n"
          ]
        },
        {
          "output_type": "stream",
          "name": "stderr",
          "text": [
            "\r 10%|█         | 214/2051 [22:05<3:42:44,  7.28s/it]"
          ]
        },
        {
          "output_type": "stream",
          "name": "stdout",
          "text": [
            "AI Trader bought:  -Rs 4899.149902\n"
          ]
        },
        {
          "output_type": "stream",
          "name": "stderr",
          "text": [
            " 11%|█         | 216/2051 [22:19<3:42:22,  7.27s/it]"
          ]
        },
        {
          "output_type": "stream",
          "name": "stdout",
          "text": [
            "AI Trader bought:  -Rs 4794.850098\n"
          ]
        },
        {
          "output_type": "stream",
          "name": "stderr",
          "text": [
            " 11%|█         | 219/2051 [22:41<3:39:18,  7.18s/it]"
          ]
        },
        {
          "output_type": "stream",
          "name": "stdout",
          "text": [
            "AI Trader bought:  -Rs 4769.299805\n"
          ]
        },
        {
          "output_type": "stream",
          "name": "stderr",
          "text": [
            "\r 11%|█         | 220/2051 [22:48<3:39:17,  7.19s/it]"
          ]
        },
        {
          "output_type": "stream",
          "name": "stdout",
          "text": [
            "AI Trader bought:  -Rs 4864.200195\n"
          ]
        },
        {
          "output_type": "stream",
          "name": "stderr",
          "text": [
            " 11%|█         | 222/2051 [23:03<3:41:13,  7.26s/it]"
          ]
        },
        {
          "output_type": "stream",
          "name": "stdout",
          "text": [
            "AI Trader bought:  -Rs 4970.850098\n"
          ]
        },
        {
          "output_type": "stream",
          "name": "stderr",
          "text": [
            "\r 11%|█         | 223/2051 [23:11<3:51:19,  7.59s/it]"
          ]
        },
        {
          "output_type": "stream",
          "name": "stdout",
          "text": [
            "AI Trader sold:  -Rs 4940.850098  Profit: -Rs -218.899902\n"
          ]
        },
        {
          "output_type": "stream",
          "name": "stderr",
          "text": [
            "\r 11%|█         | 224/2051 [23:19<3:54:32,  7.70s/it]"
          ]
        },
        {
          "output_type": "stream",
          "name": "stdout",
          "text": [
            "AI Trader sold:  -Rs 5036.500000  Profit: -Rs -180.850098\n"
          ]
        },
        {
          "output_type": "stream",
          "name": "stderr",
          "text": [
            " 11%|█▏        | 232/2051 [24:16<3:42:10,  7.33s/it]"
          ]
        },
        {
          "output_type": "stream",
          "name": "stdout",
          "text": [
            "AI Trader bought:  -Rs 4752.500000\n"
          ]
        },
        {
          "output_type": "stream",
          "name": "stderr",
          "text": [
            " 11%|█▏        | 234/2051 [24:32<3:49:28,  7.58s/it]"
          ]
        },
        {
          "output_type": "stream",
          "name": "stdout",
          "text": [
            "AI Trader sold:  -Rs 4635.799805  Profit: -Rs -495.400390\n"
          ]
        },
        {
          "output_type": "stream",
          "name": "stderr",
          "text": [
            " 12%|█▏        | 242/2051 [25:31<3:37:01,  7.20s/it]"
          ]
        },
        {
          "output_type": "stream",
          "name": "stdout",
          "text": [
            "AI Trader bought:  -Rs 4675.799805\n"
          ]
        },
        {
          "output_type": "stream",
          "name": "stderr",
          "text": [
            " 12%|█▏        | 246/2051 [26:02<3:56:35,  7.86s/it]"
          ]
        },
        {
          "output_type": "stream",
          "name": "stdout",
          "text": [
            "AI Trader sold:  -Rs 4747.549805  Profit: -Rs -311.550293\n"
          ]
        },
        {
          "output_type": "stream",
          "name": "stderr",
          "text": [
            " 12%|█▏        | 253/2051 [26:53<3:33:39,  7.13s/it]"
          ]
        },
        {
          "output_type": "stream",
          "name": "stdout",
          "text": [
            "AI Trader sold:  -Rs 4977.750000  Profit: -Rs -49.350098\n"
          ]
        },
        {
          "output_type": "stream",
          "name": "stderr",
          "text": [
            " 13%|█▎        | 257/2051 [27:21<3:27:49,  6.95s/it]"
          ]
        },
        {
          "output_type": "stream",
          "name": "stdout",
          "text": [
            "AI Trader bought:  -Rs 5064.799805\n"
          ]
        },
        {
          "output_type": "stream",
          "name": "stderr",
          "text": [
            " 13%|█▎        | 259/2051 [27:37<3:37:31,  7.28s/it]"
          ]
        },
        {
          "output_type": "stream",
          "name": "stdout",
          "text": [
            "AI Trader sold:  -Rs 5216.750000  Profit: -Rs 317.600098\n"
          ]
        },
        {
          "output_type": "stream",
          "name": "stderr",
          "text": [
            "\r 13%|█▎        | 260/2051 [27:44<3:41:02,  7.40s/it]"
          ]
        },
        {
          "output_type": "stream",
          "name": "stdout",
          "text": [
            "AI Trader sold:  -Rs 5163.549805  Profit: -Rs 368.699707\n"
          ]
        },
        {
          "output_type": "stream",
          "name": "stderr",
          "text": [
            "\r 13%|█▎        | 261/2051 [27:51<3:31:37,  7.09s/it]"
          ]
        },
        {
          "output_type": "stream",
          "name": "stdout",
          "text": [
            "AI Trader sold:  -Rs 5125.250000  Profit: -Rs 355.950195\n"
          ]
        },
        {
          "output_type": "stream",
          "name": "stderr",
          "text": [
            " 13%|█▎        | 263/2051 [28:05<3:29:36,  7.03s/it]"
          ]
        },
        {
          "output_type": "stream",
          "name": "stdout",
          "text": [
            "AI Trader bought:  -Rs 5272.100098\n"
          ]
        },
        {
          "output_type": "stream",
          "name": "stderr",
          "text": [
            "\r 13%|█▎        | 264/2051 [28:12<3:33:09,  7.16s/it]"
          ]
        },
        {
          "output_type": "stream",
          "name": "stdout",
          "text": [
            "AI Trader sold:  -Rs 5276.100098  Profit: -Rs 411.899903\n"
          ]
        },
        {
          "output_type": "stream",
          "name": "stderr",
          "text": [
            " 13%|█▎        | 266/2051 [28:27<3:32:43,  7.15s/it]"
          ]
        },
        {
          "output_type": "stream",
          "name": "stdout",
          "text": [
            "AI Trader sold:  -Rs 5412.950195  Profit: -Rs 442.100097\n"
          ]
        },
        {
          "output_type": "stream",
          "name": "stderr",
          "text": [
            "\r 13%|█▎        | 267/2051 [28:34<3:34:40,  7.22s/it]"
          ]
        },
        {
          "output_type": "stream",
          "name": "stdout",
          "text": [
            "AI Trader sold:  -Rs 5343.799805  Profit: -Rs 591.299805\n"
          ]
        },
        {
          "output_type": "stream",
          "name": "stderr",
          "text": [
            " 13%|█▎        | 269/2051 [28:50<3:45:37,  7.60s/it]"
          ]
        },
        {
          "output_type": "stream",
          "name": "stdout",
          "text": [
            "AI Trader sold:  -Rs 5399.799805  Profit: -Rs 724.000000\n"
          ]
        },
        {
          "output_type": "stream",
          "name": "stderr",
          "text": [
            "\r 13%|█▎        | 270/2051 [28:57<3:45:30,  7.60s/it]"
          ]
        },
        {
          "output_type": "stream",
          "name": "stdout",
          "text": [
            "AI Trader sold:  -Rs 5382.100098  Profit: -Rs 317.300293\n"
          ]
        },
        {
          "output_type": "stream",
          "name": "stderr",
          "text": [
            "\r 13%|█▎        | 271/2051 [29:05<3:50:19,  7.76s/it]"
          ]
        },
        {
          "output_type": "stream",
          "name": "stdout",
          "text": [
            "AI Trader sold:  -Rs 5380.799805  Profit: -Rs 108.699707\n"
          ]
        },
        {
          "output_type": "stream",
          "name": "stderr",
          "text": [
            "\r 13%|█▎        | 272/2051 [29:12<3:38:46,  7.38s/it]"
          ]
        },
        {
          "output_type": "stream",
          "name": "stdout",
          "text": [
            "AI Trader bought:  -Rs 5460.600098\n"
          ]
        },
        {
          "output_type": "stream",
          "name": "stderr",
          "text": [
            " 13%|█▎        | 274/2051 [29:26<3:33:10,  7.20s/it]"
          ]
        },
        {
          "output_type": "stream",
          "name": "stdout",
          "text": [
            "AI Trader sold:  -Rs 5574.200195  Profit: -Rs 113.600097\n"
          ]
        },
        {
          "output_type": "stream",
          "name": "stderr",
          "text": [
            " 14%|█▍        | 284/2051 [30:42<3:49:29,  7.79s/it]"
          ]
        },
        {
          "output_type": "stream",
          "name": "stdout",
          "text": [
            "AI Trader bought:  -Rs 5342.549805\n"
          ]
        },
        {
          "output_type": "stream",
          "name": "stderr",
          "text": [
            "\r 14%|█▍        | 285/2051 [30:49<3:37:32,  7.39s/it]"
          ]
        },
        {
          "output_type": "stream",
          "name": "stdout",
          "text": [
            "AI Trader sold:  -Rs 5266.000000  Profit: -Rs -76.549805\n"
          ]
        },
        {
          "output_type": "stream",
          "name": "stderr",
          "text": [
            " 14%|█▍        | 297/2051 [32:16<3:31:11,  7.22s/it]"
          ]
        },
        {
          "output_type": "stream",
          "name": "stdout",
          "text": [
            "AI Trader bought:  -Rs 5255.649902\n"
          ]
        },
        {
          "output_type": "stream",
          "name": "stderr",
          "text": [
            "\r 15%|█▍        | 298/2051 [32:23<3:25:46,  7.04s/it]"
          ]
        },
        {
          "output_type": "stream",
          "name": "stdout",
          "text": [
            "AI Trader bought:  -Rs 5274.350098\n"
          ]
        },
        {
          "output_type": "stream",
          "name": "stderr",
          "text": [
            "\r 15%|█▍        | 299/2051 [32:30<3:30:38,  7.21s/it]"
          ]
        },
        {
          "output_type": "stream",
          "name": "stdout",
          "text": [
            "AI Trader bought:  -Rs 5242.950195\n"
          ]
        },
        {
          "output_type": "stream",
          "name": "stderr",
          "text": [
            "\r 15%|█▍        | 300/2051 [32:37<3:23:02,  6.96s/it]"
          ]
        },
        {
          "output_type": "stream",
          "name": "stdout",
          "text": [
            "AI Trader bought:  -Rs 5231.700195\n"
          ]
        },
        {
          "output_type": "stream",
          "name": "stderr",
          "text": [
            " 15%|█▌        | 309/2051 [33:43<3:30:15,  7.24s/it]"
          ]
        },
        {
          "output_type": "stream",
          "name": "stdout",
          "text": [
            "AI Trader sold:  -Rs 5246.750000  Profit: -Rs -8.899902\n"
          ]
        },
        {
          "output_type": "stream",
          "name": "stderr",
          "text": [
            "\r 15%|█▌        | 310/2051 [33:50<3:27:15,  7.14s/it]"
          ]
        },
        {
          "output_type": "stream",
          "name": "stdout",
          "text": [
            "AI Trader sold:  -Rs 5255.700195  Profit: -Rs -18.649903\n"
          ]
        },
        {
          "output_type": "stream",
          "name": "stderr",
          "text": [
            " 15%|█▌        | 313/2051 [34:11<3:25:15,  7.09s/it]"
          ]
        },
        {
          "output_type": "stream",
          "name": "stdout",
          "text": [
            "AI Trader sold:  -Rs 5320.700195  Profit: -Rs 77.750000\n"
          ]
        },
        {
          "output_type": "stream",
          "name": "stderr",
          "text": [
            "\r 15%|█▌        | 314/2051 [34:19<3:28:14,  7.19s/it]"
          ]
        },
        {
          "output_type": "stream",
          "name": "stdout",
          "text": [
            "AI Trader sold:  -Rs 5320.600098  Profit: -Rs 88.899903\n"
          ]
        },
        {
          "output_type": "stream",
          "name": "stderr",
          "text": [
            " 16%|█▌        | 321/2051 [35:11<3:24:34,  7.10s/it]"
          ]
        },
        {
          "output_type": "stream",
          "name": "stdout",
          "text": [
            "AI Trader bought:  -Rs 5201.450195\n"
          ]
        },
        {
          "output_type": "stream",
          "name": "stderr",
          "text": [
            "\r 16%|█▌        | 322/2051 [35:18<3:28:10,  7.22s/it]"
          ]
        },
        {
          "output_type": "stream",
          "name": "stdout",
          "text": [
            "AI Trader sold:  -Rs 5254.299805  Profit: -Rs 52.849610\n"
          ]
        },
        {
          "output_type": "stream",
          "name": "stderr",
          "text": [
            " 16%|█▌        | 325/2051 [35:39<3:19:26,  6.93s/it]"
          ]
        },
        {
          "output_type": "stream",
          "name": "stdout",
          "text": [
            "AI Trader bought:  -Rs 5017.799805\n"
          ]
        },
        {
          "output_type": "stream",
          "name": "stderr",
          "text": [
            "\r 16%|█▌        | 326/2051 [35:46<3:24:35,  7.12s/it]"
          ]
        },
        {
          "output_type": "stream",
          "name": "stdout",
          "text": [
            "AI Trader sold:  -Rs 5114.700195  Profit: -Rs 96.900390\n"
          ]
        },
        {
          "output_type": "stream",
          "name": "stderr",
          "text": [
            "\r 16%|█▌        | 327/2051 [35:54<3:32:30,  7.40s/it]"
          ]
        },
        {
          "output_type": "stream",
          "name": "stdout",
          "text": [
            "AI Trader bought:  -Rs 4967.899902\n"
          ]
        },
        {
          "output_type": "stream",
          "name": "stderr",
          "text": [
            " 16%|█▌        | 331/2051 [36:24<3:32:42,  7.42s/it]"
          ]
        },
        {
          "output_type": "stream",
          "name": "stdout",
          "text": [
            "AI Trader bought:  -Rs 4869.850098\n"
          ]
        },
        {
          "output_type": "stream",
          "name": "stderr",
          "text": [
            " 16%|█▋        | 334/2051 [36:45<3:21:49,  7.05s/it]"
          ]
        },
        {
          "output_type": "stream",
          "name": "stdout",
          "text": [
            "AI Trader sold:  -Rs 4796.399902  Profit: -Rs -171.500000\n"
          ]
        },
        {
          "output_type": "stream",
          "name": "stderr",
          "text": [
            "\r 16%|█▋        | 335/2051 [36:52<3:25:33,  7.19s/it]"
          ]
        },
        {
          "output_type": "stream",
          "name": "stdout",
          "text": [
            "AI Trader sold:  -Rs 4954.700195  Profit: -Rs 84.850097\n"
          ]
        },
        {
          "output_type": "stream",
          "name": "stderr",
          "text": [
            " 17%|█▋        | 358/2051 [39:41<3:25:52,  7.30s/it]"
          ]
        },
        {
          "output_type": "stream",
          "name": "stdout",
          "text": [
            "AI Trader bought:  -Rs 5101.750000\n"
          ]
        },
        {
          "output_type": "stream",
          "name": "stderr",
          "text": [
            " 18%|█▊        | 360/2051 [39:55<3:22:14,  7.18s/it]"
          ]
        },
        {
          "output_type": "stream",
          "name": "stdout",
          "text": [
            "AI Trader bought:  -Rs 5107.450195\n"
          ]
        },
        {
          "output_type": "stream",
          "name": "stderr",
          "text": [
            " 18%|█▊        | 362/2051 [40:10<3:26:19,  7.33s/it]"
          ]
        },
        {
          "output_type": "stream",
          "name": "stdout",
          "text": [
            "AI Trader sold:  -Rs 5148.950195  Profit: -Rs 47.200195\n"
          ]
        },
        {
          "output_type": "stream",
          "name": "stderr",
          "text": [
            " 18%|█▊        | 364/2051 [40:25<3:28:11,  7.40s/it]"
          ]
        },
        {
          "output_type": "stream",
          "name": "stdout",
          "text": [
            "AI Trader sold:  -Rs 5283.850098  Profit: -Rs 176.399903\n"
          ]
        },
        {
          "output_type": "stream",
          "name": "stderr",
          "text": [
            " 18%|█▊        | 377/2051 [42:00<3:25:59,  7.38s/it]"
          ]
        },
        {
          "output_type": "stream",
          "name": "stdout",
          "text": [
            "AI Trader bought:  -Rs 5249.850098\n"
          ]
        },
        {
          "output_type": "stream",
          "name": "stderr",
          "text": [
            " 19%|█▊        | 381/2051 [42:28<3:17:10,  7.08s/it]"
          ]
        },
        {
          "output_type": "stream",
          "name": "stdout",
          "text": [
            "AI Trader sold:  -Rs 5118.399902  Profit: -Rs -131.450196\n"
          ]
        },
        {
          "output_type": "stream",
          "name": "stderr",
          "text": [
            " 19%|█▊        | 383/2051 [42:42<3:14:54,  7.01s/it]"
          ]
        },
        {
          "output_type": "stream",
          "name": "stdout",
          "text": [
            "AI Trader bought:  -Rs 5124.299805\n"
          ]
        },
        {
          "output_type": "stream",
          "name": "stderr",
          "text": [
            "\r 19%|█▊        | 384/2051 [42:50<3:20:35,  7.22s/it]"
          ]
        },
        {
          "output_type": "stream",
          "name": "stdout",
          "text": [
            "AI Trader bought:  -Rs 5129.750000\n"
          ]
        },
        {
          "output_type": "stream",
          "name": "stderr",
          "text": [
            "\r 19%|█▉        | 385/2051 [42:57<3:14:12,  6.99s/it]"
          ]
        },
        {
          "output_type": "stream",
          "name": "stdout",
          "text": [
            "AI Trader bought:  -Rs 5214.850098\n"
          ]
        },
        {
          "output_type": "stream",
          "name": "stderr",
          "text": [
            "\r 19%|█▉        | 386/2051 [43:06<3:34:55,  7.75s/it]"
          ]
        },
        {
          "output_type": "stream",
          "name": "stdout",
          "text": [
            "AI Trader bought:  -Rs 5220.700195\n"
          ]
        },
        {
          "output_type": "stream",
          "name": "stderr",
          "text": [
            "\r 19%|█▉        | 387/2051 [43:14<3:33:04,  7.68s/it]"
          ]
        },
        {
          "output_type": "stream",
          "name": "stdout",
          "text": [
            "AI Trader bought:  -Rs 5233.100098\n"
          ]
        },
        {
          "output_type": "stream",
          "name": "stderr",
          "text": [
            "\r 19%|█▉        | 388/2051 [43:23<3:48:00,  8.23s/it]"
          ]
        },
        {
          "output_type": "stream",
          "name": "stdout",
          "text": [
            "AI Trader sold:  -Rs 5195.600098  Profit: -Rs 71.300293\n"
          ]
        },
        {
          "output_type": "stream",
          "name": "stderr",
          "text": [
            "\r 19%|█▉        | 389/2051 [43:30<3:35:37,  7.78s/it]"
          ]
        },
        {
          "output_type": "stream",
          "name": "stdout",
          "text": [
            "AI Trader sold:  -Rs 5260.850098  Profit: -Rs 131.100098\n"
          ]
        },
        {
          "output_type": "stream",
          "name": "stderr",
          "text": [
            "\r 19%|█▉        | 390/2051 [43:37<3:32:27,  7.67s/it]"
          ]
        },
        {
          "output_type": "stream",
          "name": "stdout",
          "text": [
            "AI Trader sold:  -Rs 5295.399902  Profit: -Rs 80.549804\n"
          ]
        },
        {
          "output_type": "stream",
          "name": "stderr",
          "text": [
            " 19%|█▉        | 392/2051 [43:51<3:23:45,  7.37s/it]"
          ]
        },
        {
          "output_type": "stream",
          "name": "stdout",
          "text": [
            "AI Trader sold:  -Rs 5348.299805  Profit: -Rs 127.599610\n"
          ]
        },
        {
          "output_type": "stream",
          "name": "stderr",
          "text": [
            "\r 19%|█▉        | 393/2051 [43:59<3:23:48,  7.38s/it]"
          ]
        },
        {
          "output_type": "stream",
          "name": "stdout",
          "text": [
            "AI Trader sold:  -Rs 5308.200195  Profit: -Rs 75.100097\n"
          ]
        },
        {
          "output_type": "stream",
          "name": "stderr",
          "text": [
            " 21%|██▏       | 437/2051 [49:27<3:14:30,  7.23s/it]"
          ]
        },
        {
          "output_type": "stream",
          "name": "stdout",
          "text": [
            "AI Trader bought:  -Rs 5675.299805\n"
          ]
        },
        {
          "output_type": "stream",
          "name": "stderr",
          "text": [
            "\r 21%|██▏       | 438/2051 [49:35<3:18:04,  7.37s/it]"
          ]
        },
        {
          "output_type": "stream",
          "name": "stdout",
          "text": [
            "AI Trader sold:  -Rs 5703.299805  Profit: -Rs 28.000000\n"
          ]
        },
        {
          "output_type": "stream",
          "name": "stderr",
          "text": [
            "\r 21%|██▏       | 439/2051 [49:41<3:11:56,  7.14s/it]"
          ]
        },
        {
          "output_type": "stream",
          "name": "stdout",
          "text": [
            "AI Trader bought:  -Rs 5667.600098\n"
          ]
        },
        {
          "output_type": "stream",
          "name": "stderr",
          "text": [
            "\r 21%|██▏       | 440/2051 [49:49<3:16:45,  7.33s/it]"
          ]
        },
        {
          "output_type": "stream",
          "name": "stdout",
          "text": [
            "AI Trader sold:  -Rs 5715.649902  Profit: -Rs 48.049804\n"
          ]
        },
        {
          "output_type": "stream",
          "name": "stderr",
          "text": [
            " 22%|██▏       | 452/2051 [51:20<3:17:10,  7.40s/it]"
          ]
        },
        {
          "output_type": "stream",
          "name": "stdout",
          "text": [
            "AI Trader bought:  -Rs 5688.450195\n"
          ]
        },
        {
          "output_type": "stream",
          "name": "stderr",
          "text": [
            "\r 22%|██▏       | 453/2051 [51:27<3:13:15,  7.26s/it]"
          ]
        },
        {
          "output_type": "stream",
          "name": "stdout",
          "text": [
            "AI Trader sold:  -Rs 5650.350098  Profit: -Rs -38.100097\n"
          ]
        },
        {
          "output_type": "stream",
          "name": "stderr",
          "text": [
            " 24%|██▎       | 482/2051 [55:05<3:15:57,  7.49s/it]"
          ]
        },
        {
          "output_type": "stream",
          "name": "stdout",
          "text": [
            "AI Trader bought:  -Rs 5887.149902\n"
          ]
        },
        {
          "output_type": "stream",
          "name": "stderr",
          "text": [
            "\r 24%|██▎       | 483/2051 [55:11<3:08:10,  7.20s/it]"
          ]
        },
        {
          "output_type": "stream",
          "name": "stdout",
          "text": [
            "AI Trader sold:  -Rs 5901.200195  Profit: -Rs 14.050293\n"
          ]
        },
        {
          "output_type": "stream",
          "name": "stderr",
          "text": [
            " 24%|██▎       | 485/2051 [55:26<3:09:49,  7.27s/it]"
          ]
        },
        {
          "output_type": "stream",
          "name": "stdout",
          "text": [
            "AI Trader bought:  -Rs 6015.799805\n"
          ]
        },
        {
          "output_type": "stream",
          "name": "stderr",
          "text": [
            "\r 24%|██▎       | 486/2051 [55:34<3:12:04,  7.36s/it]"
          ]
        },
        {
          "output_type": "stream",
          "name": "stdout",
          "text": [
            "AI Trader sold:  -Rs 6011.950195  Profit: -Rs -3.849610\n"
          ]
        },
        {
          "output_type": "stream",
          "name": "stderr",
          "text": [
            " 25%|██▌       | 523/2051 [1:05:19<3:52:36,  9.13s/it]"
          ]
        },
        {
          "output_type": "stream",
          "name": "stdout",
          "text": [
            "AI Trader bought:  -Rs 5838.299805\n"
          ]
        },
        {
          "output_type": "stream",
          "name": "stderr",
          "text": [
            "\r 26%|██▌       | 524/2051 [1:05:28<3:47:09,  8.93s/it]"
          ]
        },
        {
          "output_type": "stream",
          "name": "stdout",
          "text": [
            "AI Trader sold:  -Rs 5784.899902  Profit: -Rs -53.399903\n"
          ]
        },
        {
          "output_type": "stream",
          "name": "stderr",
          "text": [
            " 26%|██▌       | 530/2051 [1:06:11<3:05:30,  7.32s/it]"
          ]
        },
        {
          "output_type": "stream",
          "name": "stdout",
          "text": [
            "AI Trader bought:  -Rs 5801.299805\n"
          ]
        },
        {
          "output_type": "stream",
          "name": "stderr",
          "text": [
            "\r 26%|██▌       | 531/2051 [1:06:19<3:06:50,  7.38s/it]"
          ]
        },
        {
          "output_type": "stream",
          "name": "stdout",
          "text": [
            "AI Trader sold:  -Rs 5883.649902  Profit: -Rs 82.350097\n"
          ]
        },
        {
          "output_type": "stream",
          "name": "stderr",
          "text": [
            "\r 26%|██▌       | 532/2051 [1:06:25<3:00:40,  7.14s/it]"
          ]
        },
        {
          "output_type": "stream",
          "name": "stdout",
          "text": [
            "AI Trader bought:  -Rs 5946.100098\n"
          ]
        },
        {
          "output_type": "stream",
          "name": "stderr",
          "text": [
            "\r 26%|██▌       | 533/2051 [1:06:33<3:05:10,  7.32s/it]"
          ]
        },
        {
          "output_type": "stream",
          "name": "stdout",
          "text": [
            "AI Trader sold:  -Rs 5944.600098  Profit: -Rs -1.500000\n"
          ]
        },
        {
          "output_type": "stream",
          "name": "stderr",
          "text": [
            "\r 26%|██▌       | 534/2051 [1:06:40<2:58:35,  7.06s/it]"
          ]
        }
      ],
      "source": [
        "for episode in range(1, episodes + 1):\n",
        "    state = state_creator(dataset, 0, window_size + 1)\n",
        "    total_profit = 0\n",
        "    trader.inventory = []\n",
        "    for t in tqdm(range(data_samples)):\n",
        "        action = trader.trade(state)\n",
        "        next_state = state_creator(dataset, t+1, window_size + 1)\n",
        "        reward, done, total_profit = RewardFunction(action, dataset, data_samples, t, total_profit)\n",
        "        trader.memory.append((state, action, reward, next_state, done))\n",
        "        state = next_state\n",
        "        if done:\n",
        "            print(\"TOTAL PROFIT: {}\".format(total_profit))\n",
        "        if len(trader.memory) > batch_size:\n",
        "            trader.batch_train(batch_size)\n",
        "    if episode % 100 == 0:\n",
        "        trader.model.save(\"ai_trader_{}.h5\".format(episode))\n"
      ]
    },
    {
      "cell_type": "code",
      "execution_count": null,
      "id": "98087f2f-126a-4d56-8d85-4720722b6b57",
      "metadata": {
        "id": "98087f2f-126a-4d56-8d85-4720722b6b57"
      },
      "outputs": [],
      "source": []
    },
    {
      "cell_type": "code",
      "execution_count": null,
      "id": "19d732bf-53cd-4e2d-a8ff-6ec4c646c88f",
      "metadata": {
        "id": "19d732bf-53cd-4e2d-a8ff-6ec4c646c88f"
      },
      "outputs": [],
      "source": []
    },
    {
      "cell_type": "code",
      "execution_count": null,
      "id": "9b9d8973-aa71-4af1-a05e-38bf696a0f37",
      "metadata": {
        "id": "9b9d8973-aa71-4af1-a05e-38bf696a0f37"
      },
      "outputs": [],
      "source": []
    }
  ],
  "metadata": {
    "kernelspec": {
      "display_name": "Python 3 (ipykernel)",
      "language": "python",
      "name": "python3"
    },
    "language_info": {
      "codemirror_mode": {
        "name": "ipython",
        "version": 3
      },
      "file_extension": ".py",
      "mimetype": "text/x-python",
      "name": "python",
      "nbconvert_exporter": "python",
      "pygments_lexer": "ipython3",
      "version": "3.11.1"
    },
    "colab": {
      "provenance": []
    }
  },
  "nbformat": 4,
  "nbformat_minor": 5
}