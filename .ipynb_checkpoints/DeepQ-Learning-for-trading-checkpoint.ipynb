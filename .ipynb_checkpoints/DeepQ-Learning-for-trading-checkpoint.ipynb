{
 "cells": [
  {
   "cell_type": "code",
   "execution_count": 134,
   "id": "e1b64ccd-b0ca-426f-a58c-41435d141111",
   "metadata": {},
   "outputs": [],
   "source": [
    "import numpy as np \n",
    "import pandas as pd \n",
    "import random \n",
    "import matplotlib.pyplot as plt \n",
    "import torch \n",
    "import tensorflow as tf\n",
    "import math  \n",
    "from tqdm import tqdm_notebook , tqdm\n",
    "from collections import deque"
   ]
  },
  {
   "cell_type": "markdown",
   "id": "582f09f4-b719-440e-a220-0284572edf93",
   "metadata": {},
   "source": [
    "# DataLoading"
   ]
  },
  {
   "cell_type": "code",
   "execution_count": 135,
   "id": "253ba88b-abdf-4f49-ac6a-43e1875ebd9c",
   "metadata": {
    "tags": []
   },
   "outputs": [
    {
     "name": "stdout",
     "output_type": "stream",
     "text": [
      "         Date         Open         High          Low        Close  \\\n",
      "0  2011-01-03  6177.450195  6178.549805  6147.200195  6157.600098   \n",
      "1  2011-01-04  6172.750000  6181.049805  6124.399902  6146.350098   \n",
      "2  2011-01-05  6141.350098  6141.350098  6062.350098  6079.799805   \n",
      "3  2011-01-06  6107.000000  6116.149902  6022.299805  6048.250000   \n",
      "4  2011-01-07  6030.899902  6051.200195  5883.600098  5904.600098   \n",
      "\n",
      "     Adj Close  Volume  \n",
      "0  6157.600098     0.0  \n",
      "1  6146.350098     0.0  \n",
      "2  6079.799805     0.0  \n",
      "3  6048.250000     0.0  \n",
      "4  5904.600098     0.0  \n"
     ]
    }
   ],
   "source": [
    "df=pd.read_csv('2011-2019pricedata.csv')#loading Dataset\n",
    "df=df.dropna() #dropping Nan values\n",
    "print(df.head())"
   ]
  },
  {
   "cell_type": "code",
   "execution_count": 136,
   "id": "d90455c2-7dd1-4fab-ace2-63a979529182",
   "metadata": {},
   "outputs": [
    {
     "data": {
      "text/plain": [
       "2052"
      ]
     },
     "execution_count": 136,
     "metadata": {},
     "output_type": "execute_result"
    }
   ],
   "source": [
    "# opening price would represent the price at a particular day\n",
    "dataset=list(df['Open'])\n",
    "len(dataset)"
   ]
  },
  {
   "cell_type": "code",
   "execution_count": 137,
   "id": "530b1078-9f55-4baf-aa2c-14e63fe14843",
   "metadata": {
    "tags": []
   },
   "outputs": [],
   "source": [
    "def stock_price_format(n):\n",
    "    if n < 0 :\n",
    "        return '- $ {:2f}'.format(abs(n))\n",
    "    else :\n",
    "        return '$ {:2f}'.format(abs(n))"
   ]
  },
  {
   "cell_type": "markdown",
   "id": "5df9402f-d96f-4a0d-bd70-50042fd0ff12",
   "metadata": {},
   "source": [
    "# Define State"
   ]
  },
  {
   "cell_type": "markdown",
   "id": "0921584f-f808-41e4-8d0b-0bc3c55de4da",
   "metadata": {},
   "source": [
    "State would basically include features  like current day price and would also include historical prices which would be used to represent current market conditions"
   ]
  },
  {
   "cell_type": "code",
   "execution_count": 138,
   "id": "b5a5b8c2-bd1a-479c-acec-48f83b17a136",
   "metadata": {
    "tags": []
   },
   "outputs": [],
   "source": [
    "def sigmoid(x):\n",
    "    return 1/(1+math.exp(-x))"
   ]
  },
  {
   "cell_type": "code",
   "execution_count": 139,
   "id": "0b9f1ab4-1b7e-49cd-904a-7cd48e339b21",
   "metadata": {
    "tags": []
   },
   "outputs": [],
   "source": [
    "def state_creator(data, timestep, window_size):\n",
    "    starting_id = timestep - window_size + 1\n",
    "    if starting_id >= 0:\n",
    "        windowed_data = list(data[starting_id:timestep+1])\n",
    "    else:\n",
    "        windowed_data = - starting_id * [data[0]] + list(data[0:timestep+1])\n",
    "    state = []\n",
    "    for i in range(window_size - 1):\n",
    "        #state would basically consider the increase in prices for the past few days \n",
    "        #state would also use sigmoid function to recduce the skewness in the increase of price and ouputs between 0 and 1\n",
    "        state.append(sigmoid(windowed_data[i+1] - windowed_data[i]))\n",
    "    return np.array([state])"
   ]
  },
  {
   "cell_type": "markdown",
   "id": "df5bb71b-9a5b-4679-9762-1f49d425da38",
   "metadata": {},
   "source": [
    "# Building the Trader and Model"
   ]
  },
  {
   "cell_type": "code",
   "execution_count": 177,
   "id": "4b08be67-1c31-4e32-82ab-8b21ceda3de1",
   "metadata": {
    "tags": []
   },
   "outputs": [],
   "source": [
    "class ModelandTrade:\n",
    "    \n",
    "    def __init__(self, state_size, action_space=3, model_name=\"ModelandTrade\"):\n",
    "        \n",
    "        self.state_size = state_size\n",
    "        self.action_space = action_space\n",
    "        self.model_name = model_name\n",
    "        self.inventory = []\n",
    "        self.memory = deque(maxlen=2000)\n",
    "        #exploration parameters\n",
    "        self.gamma = 0.95\n",
    "        self.epsilon = 1.0\n",
    "        self.epsilon_final = 0.01\n",
    "        self.epsilon_decay = 0.995\n",
    "        #model creation\n",
    "        self.model = self.model_builder()\n",
    "\n",
    "    def model_builder(self):\n",
    "        model = tf.keras.models.Sequential()\n",
    "        model.add(tf.keras.layers.Dense(units=32, activation='relu', input_dim=self.state_size))\n",
    "        model.add(tf.keras.layers.Dense(units=64, activation='relu'))\n",
    "        model.add(tf.keras.layers.Dense(units=128, activation='relu'))\n",
    "        model.add(tf.keras.layers.Dense(units=self.action_space, activation='linear'))\n",
    "        #mean Square error \n",
    "        model.compile(loss='mse', optimizer=tf.keras.optimizers.Adam(lr=0.001))\n",
    "    \n",
    "        return model\n",
    "    \n",
    "    def trade(self, state):\n",
    "        #exploration\n",
    "        if random.random() <= self.epsilon:\n",
    "            return random.randrange(self.action_space)\n",
    "        #exploitation\n",
    "        \n",
    "        Q_value=self.model.predict(state,verbose=0)\n",
    "        return np.argmax(Q_value[0])\n",
    "    \n",
    "    def batch_train(self,batch_size):\n",
    "        batch = []\n",
    "        for i in range(len(self.memory) - batch_size + 1, len(self.memory)):\n",
    "            batch.append(self.memory[i])\n",
    "      \n",
    "        for state, action, reward, next_state, done in batch:\n",
    "            Q_target=reward\n",
    "            if not done:\n",
    "                #q_target found using belman equation\n",
    "                Q_target = reward + self.gamma * np.amax(self.model.predict(next_state,verbose=0)[0])\n",
    "            target = self.model.predict(state,verbose=0)\n",
    "            target[0][action] = Q_target\n",
    "            #fitting the model\n",
    "            self.model.fit(state, target, epochs=1, verbose=0)\n",
    "            #Mean Square Error Loss\n",
    "\n",
    "        if self.epsilon > self.epsilon_final:\n",
    "            self.epsilon *= self.epsilon_decay"
   ]
  },
  {
   "cell_type": "markdown",
   "id": "15e64657-e798-4a29-851c-aba10f54e99d",
   "metadata": {},
   "source": [
    "## Hyperparmeters"
   ]
  },
  {
   "cell_type": "code",
   "execution_count": 178,
   "id": "d1070088-fd41-426c-be5e-b723a77f8f8b",
   "metadata": {
    "tags": []
   },
   "outputs": [],
   "source": [
    "window_size = 10 \n",
    "episodes = 1000\n",
    "\n",
    "batch_size = 32\n",
    "data_samples = len(dataset) - 1"
   ]
  },
  {
   "cell_type": "code",
   "execution_count": 179,
   "id": "43cdb2bd-e67c-4b62-98f5-aedfe12d8dfe",
   "metadata": {
    "tags": []
   },
   "outputs": [
    {
     "name": "stderr",
     "output_type": "stream",
     "text": [
      "WARNING:absl:`lr` is deprecated in Keras optimizer, please use `learning_rate` or use the legacy optimizer, e.g.,tf.keras.optimizers.legacy.Adam.\n"
     ]
    }
   ],
   "source": [
    "trader=ModelandTrade(window_size)"
   ]
  },
  {
   "cell_type": "markdown",
   "id": "981fdc7c-a05c-42f4-8c43-a60af32b456c",
   "metadata": {},
   "source": [
    "# Training the Dataset"
   ]
  },
  {
   "cell_type": "code",
   "execution_count": 180,
   "id": "11dac9fa-bc70-4d77-8985-d363e3936ed9",
   "metadata": {
    "tags": []
   },
   "outputs": [
    {
     "data": {
      "text/plain": [
       "array([[5.00000000e-01, 5.00000000e-01, 5.00000000e-01, 5.00000000e-01,\n",
       "        5.00000000e-01, 5.00000000e-01, 9.01155707e-03, 2.30778757e-14,\n",
       "        1.20765250e-15, 8.91553412e-34]])"
      ]
     },
     "execution_count": 180,
     "metadata": {},
     "output_type": "execute_result"
    }
   ],
   "source": [
    "state_creator(dataset,4,11)"
   ]
  },
  {
   "cell_type": "code",
   "execution_count": null,
   "id": "136166fb-3ce6-4ebb-b136-66343473d57c",
   "metadata": {
    "tags": []
   },
   "outputs": [
    {
     "name": "stderr",
     "output_type": "stream",
     "text": [
      "  0%|                                                                                         | 0/2051 [00:00<?, ?it/s]"
     ]
    },
    {
     "name": "stdout",
     "output_type": "stream",
     "text": [
      "AI Trader bought:  $ 6172.750000\n",
      "AI Trader bought:  $ 6107.000000\n",
      "AI Trader bought:  $ 5901.299805\n",
      "AI Trader bought:  $ 5767.950195\n",
      "AI Trader sold:  $ 5800.049805  Profit: - $ 372.700195\n",
      "AI Trader sold:  $ 5850.750000  Profit: - $ 256.250000\n",
      "AI Trader sold:  $ 5648.799805  Profit: - $ 252.500000\n",
      "AI Trader sold:  $ 5682.549805  Profit: - $ 85.400390\n",
      "AI Trader bought:  $ 5737.350098\n",
      "AI Trader sold:  $ 5656.000000  Profit: - $ 81.350098\n",
      "AI Trader bought:  $ 5717.100098\n",
      "AI Trader sold:  $ 5763.299805  Profit: $ 46.199707\n",
      "AI Trader bought:  $ 5614.000000\n",
      "AI Trader sold:  $ 5452.549805  Profit: - $ 161.450195\n",
      "AI Trader bought:  $ 5519.899902\n",
      "AI Trader bought:  $ 5430.149902\n",
      "AI Trader sold:  $ 5293.049805  Profit: - $ 226.850097\n",
      "AI Trader bought:  $ 5219.649902\n",
      "AI Trader bought:  $ 5340.250000\n",
      "AI Trader sold:  $ 5467.600098  Profit: $ 37.450196\n",
      "AI Trader sold:  $ 5501.700195  Profit: $ 282.050293\n",
      "WARNING:tensorflow:5 out of the last 8 calls to <function Model.make_predict_function.<locals>.predict_function at 0x000002DFE8C87A60> triggered tf.function retracing. Tracing is expensive and the excessive number of tracings could be due to (1) creating @tf.function repeatedly in a loop, (2) passing tensors with different shapes, (3) passing Python objects instead of tensors. For (1), please define your @tf.function outside of the loop. For (2), @tf.function has reduce_retracing=True option that can avoid unnecessary retracing. For (3), please refer to https://www.tensorflow.org/guide/function#controlling_retracing and https://www.tensorflow.org/api_docs/python/tf/function for  more details.\n"
     ]
    },
    {
     "name": "stderr",
     "output_type": "stream",
     "text": [
      "WARNING:tensorflow:5 out of the last 8 calls to <function Model.make_predict_function.<locals>.predict_function at 0x000002DFE8C87A60> triggered tf.function retracing. Tracing is expensive and the excessive number of tracings could be due to (1) creating @tf.function repeatedly in a loop, (2) passing tensors with different shapes, (3) passing Python objects instead of tensors. For (1), please define your @tf.function outside of the loop. For (2), @tf.function has reduce_retracing=True option that can avoid unnecessary retracing. For (3), please refer to https://www.tensorflow.org/guide/function#controlling_retracing and https://www.tensorflow.org/api_docs/python/tf/function for  more details.\n",
      "  2%|█▎                                                                              | 34/2051 [00:10<11:46,  2.86it/s]"
     ]
    }
   ],
   "source": [
    "for episode in range(1, episodes + 1):\n",
    "    state = state_creator(dataset, 0, window_size + 1)\n",
    "    total_profit = 0\n",
    "    trader.inventory = []\n",
    "    for t in tqdm(range(data_samples)):\n",
    "        action = trader.trade(state)\n",
    "        next_state = state_creator(dataset, t+1, window_size + 1)\n",
    "        reward, done, total_profit = RewardFunction(action, dataset, data_samples, t, total_profit)\n",
    "        trader.memory.append((state, action, reward, next_state, done))\n",
    "        state = next_state\n",
    "        if done:\n",
    "            print(\"TOTAL PROFIT: {}\".format(total_profit))\n",
    "        if len(trader.memory) > batch_size:\n",
    "            trader.batch_train(batch_size)\n",
    "    if episode % 100 == 0:\n",
    "        trader.model.save(\"ai_trader_{}.h5\".format(episode))\n",
    "        "
   ]
  },
  {
   "cell_type": "code",
   "execution_count": null,
   "id": "98087f2f-126a-4d56-8d85-4720722b6b57",
   "metadata": {},
   "outputs": [],
   "source": []
  },
  {
   "cell_type": "code",
   "execution_count": null,
   "id": "19d732bf-53cd-4e2d-a8ff-6ec4c646c88f",
   "metadata": {},
   "outputs": [],
   "source": []
  },
  {
   "cell_type": "code",
   "execution_count": null,
   "id": "9b9d8973-aa71-4af1-a05e-38bf696a0f37",
   "metadata": {},
   "outputs": [],
   "source": []
  }
 ],
 "metadata": {
  "kernelspec": {
   "display_name": "Python 3 (ipykernel)",
   "language": "python",
   "name": "python3"
  },
  "language_info": {
   "codemirror_mode": {
    "name": "ipython",
    "version": 3
   },
   "file_extension": ".py",
   "mimetype": "text/x-python",
   "name": "python",
   "nbconvert_exporter": "python",
   "pygments_lexer": "ipython3",
   "version": "3.11.1"
  }
 },
 "nbformat": 4,
 "nbformat_minor": 5
}
