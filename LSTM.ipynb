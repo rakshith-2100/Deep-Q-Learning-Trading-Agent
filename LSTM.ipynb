{
 "cells": [
  {
   "cell_type": "code",
   "execution_count": 230,
   "id": "fcff7346-b273-4511-96ce-08bdc2d48ef2",
   "metadata": {
    "tags": []
   },
   "outputs": [],
   "source": [
    "import keras_tuner\n",
    "\n",
    "import numpy as np\n",
    "import pandas as pd\n",
    "import tensorflow as tf\n",
    "\n",
    "from tensorflow import keras\n",
    "\n",
    "from keras.layers import GRU, Dropout, SimpleRNN, LSTM, Dense, SimpleRNN\n",
    "from keras.models import Sequential\n",
    "from sklearn.preprocessing import MinMaxScaler"
   ]
  },
  {
   "cell_type": "code",
   "execution_count": 231,
   "id": "793edafe-eb74-4b99-ada4-5977e3f73b42",
   "metadata": {
    "tags": []
   },
   "outputs": [
    {
     "data": {
      "text/html": [
       "<div>\n",
       "<style scoped>\n",
       "    .dataframe tbody tr th:only-of-type {\n",
       "        vertical-align: middle;\n",
       "    }\n",
       "\n",
       "    .dataframe tbody tr th {\n",
       "        vertical-align: top;\n",
       "    }\n",
       "\n",
       "    .dataframe thead th {\n",
       "        text-align: right;\n",
       "    }\n",
       "</style>\n",
       "<table border=\"1\" class=\"dataframe\">\n",
       "  <thead>\n",
       "    <tr style=\"text-align: right;\">\n",
       "      <th></th>\n",
       "      <th>Date</th>\n",
       "      <th>Open</th>\n",
       "      <th>High</th>\n",
       "      <th>Low</th>\n",
       "      <th>Close</th>\n",
       "      <th>Adj Close</th>\n",
       "      <th>Volume</th>\n",
       "    </tr>\n",
       "  </thead>\n",
       "  <tbody>\n",
       "    <tr>\n",
       "      <th>0</th>\n",
       "      <td>2011-01-03</td>\n",
       "      <td>6177.450195</td>\n",
       "      <td>6178.549805</td>\n",
       "      <td>6147.200195</td>\n",
       "      <td>6157.600098</td>\n",
       "      <td>6157.600098</td>\n",
       "      <td>0.0</td>\n",
       "    </tr>\n",
       "    <tr>\n",
       "      <th>1</th>\n",
       "      <td>2011-01-04</td>\n",
       "      <td>6172.750000</td>\n",
       "      <td>6181.049805</td>\n",
       "      <td>6124.399902</td>\n",
       "      <td>6146.350098</td>\n",
       "      <td>6146.350098</td>\n",
       "      <td>0.0</td>\n",
       "    </tr>\n",
       "    <tr>\n",
       "      <th>2</th>\n",
       "      <td>2011-01-05</td>\n",
       "      <td>6141.350098</td>\n",
       "      <td>6141.350098</td>\n",
       "      <td>6062.350098</td>\n",
       "      <td>6079.799805</td>\n",
       "      <td>6079.799805</td>\n",
       "      <td>0.0</td>\n",
       "    </tr>\n",
       "    <tr>\n",
       "      <th>3</th>\n",
       "      <td>2011-01-06</td>\n",
       "      <td>6107.000000</td>\n",
       "      <td>6116.149902</td>\n",
       "      <td>6022.299805</td>\n",
       "      <td>6048.250000</td>\n",
       "      <td>6048.250000</td>\n",
       "      <td>0.0</td>\n",
       "    </tr>\n",
       "    <tr>\n",
       "      <th>4</th>\n",
       "      <td>2011-01-07</td>\n",
       "      <td>6030.899902</td>\n",
       "      <td>6051.200195</td>\n",
       "      <td>5883.600098</td>\n",
       "      <td>5904.600098</td>\n",
       "      <td>5904.600098</td>\n",
       "      <td>0.0</td>\n",
       "    </tr>\n",
       "  </tbody>\n",
       "</table>\n",
       "</div>"
      ],
      "text/plain": [
       "         Date         Open         High          Low        Close  \\\n",
       "0  2011-01-03  6177.450195  6178.549805  6147.200195  6157.600098   \n",
       "1  2011-01-04  6172.750000  6181.049805  6124.399902  6146.350098   \n",
       "2  2011-01-05  6141.350098  6141.350098  6062.350098  6079.799805   \n",
       "3  2011-01-06  6107.000000  6116.149902  6022.299805  6048.250000   \n",
       "4  2011-01-07  6030.899902  6051.200195  5883.600098  5904.600098   \n",
       "\n",
       "     Adj Close  Volume  \n",
       "0  6157.600098     0.0  \n",
       "1  6146.350098     0.0  \n",
       "2  6079.799805     0.0  \n",
       "3  6048.250000     0.0  \n",
       "4  5904.600098     0.0  "
      ]
     },
     "execution_count": 231,
     "metadata": {},
     "output_type": "execute_result"
    }
   ],
   "source": [
    "# Load your Nifty 50 stock data\n",
    "# Assuming you have a CSV file with columns: Date, Open, High, Low, Close, Volume\n",
    "data = pd.read_csv('2011-2019pricedata.csv')\n",
    "data.dropna()\n",
    "data.head()"
   ]
  },
  {
   "cell_type": "code",
   "execution_count": 232,
   "id": "16dc72a9-e1c8-489f-9350-0819c637efeb",
   "metadata": {},
   "outputs": [],
   "source": [
    "# Extract the relevant stock's data\n",
    "stock_data = data[\"Open\"]"
   ]
  },
  {
   "cell_type": "code",
   "execution_count": 233,
   "id": "fa378d5b-7f61-4de0-a61d-ff82becc5564",
   "metadata": {
    "tags": []
   },
   "outputs": [
    {
     "data": {
      "text/plain": [
       "array([[ 6177.450195],\n",
       "       [ 6172.75    ],\n",
       "       [ 6141.350098],\n",
       "       ...,\n",
       "       [11905.799805],\n",
       "       [11865.299805],\n",
       "       [11999.799805]])"
      ]
     },
     "execution_count": 233,
     "metadata": {},
     "output_type": "execute_result"
    }
   ],
   "source": [
    "stock_data_processed = data.iloc[:, 1:2].values\n",
    "stock_data_processed\n"
   ]
  },
  {
   "cell_type": "code",
   "execution_count": 234,
   "id": "efa21fe1-9e14-47e3-9344-3462d721b9ce",
   "metadata": {
    "tags": []
   },
   "outputs": [
    {
     "data": {
      "text/plain": [
       "array([[0.21070544],\n",
       "       [0.21006827],\n",
       "       [0.20581161],\n",
       "       ...,\n",
       "       [0.98725709],\n",
       "       [0.98176679],\n",
       "       [1.        ]])"
      ]
     },
     "execution_count": 234,
     "metadata": {},
     "output_type": "execute_result"
    }
   ],
   "source": [
    "scaler = MinMaxScaler(feature_range = (0,1))\n",
    "\n",
    "stonks_scaled = scaler.fit_transform(stock_data_processed)\n",
    "stonks_scaled"
   ]
  },
  {
   "cell_type": "code",
   "execution_count": 235,
   "id": "7be75070-ea76-45bd-b4e2-cd53b15de9e9",
   "metadata": {},
   "outputs": [],
   "source": [
    "features_set = []\n",
    "labels = []\n",
    "for i in range(30, stonks_scaled.shape[0]):\n",
    "    features_set.append(stonks_scaled[i-30:i, 0])\n",
    "    labels.append(stonks_scaled[i, 0])"
   ]
  },
  {
   "cell_type": "code",
   "execution_count": 236,
   "id": "4cc22b2b-0fea-4ebd-afce-0250f4e18e1d",
   "metadata": {
    "tags": []
   },
   "outputs": [
    {
     "data": {
      "text/plain": [
       "(2046, 30)"
      ]
     },
     "execution_count": 236,
     "metadata": {},
     "output_type": "execute_result"
    }
   ],
   "source": [
    "features_set, labels = np.array(features_set), np.array(labels)\n",
    "features_set.shape"
   ]
  },
  {
   "cell_type": "code",
   "execution_count": 237,
   "id": "a359f65a-1a28-46d4-9242-145b5516d0df",
   "metadata": {
    "tags": []
   },
   "outputs": [
    {
     "name": "stdout",
     "output_type": "stream",
     "text": [
      "(1000, 30)\n"
     ]
    }
   ],
   "source": [
    "train_set=features_set[:1000]\n",
    "print(train_set.shape)\n",
    "train_label=labels[:1000]"
   ]
  },
  {
   "cell_type": "code",
   "execution_count": 238,
   "id": "8fc23d10-f512-46e8-9a08-d5485214b582",
   "metadata": {
    "tags": []
   },
   "outputs": [],
   "source": [
    "test_set=features_set[:200]\n",
    "test_label=features_set[:200]"
   ]
  },
  {
   "cell_type": "code",
   "execution_count": 247,
   "id": "fea999b6-42f7-4194-bc31-1f4222981549",
   "metadata": {
    "tags": []
   },
   "outputs": [],
   "source": [
    "LSTM_model = Sequential()\n",
    "LSTM_model.add(LSTM(units=300, return_sequences=True, input_shape=(features_set.shape[1],1)))\n",
    "LSTM_model.add(Dropout(0.2))\n",
    "\n",
    "LSTM_model.add(LSTM(units=100, return_sequences=True))\n",
    "LSTM_model.add(Dropout(0.2))\n",
    "\n",
    "LSTM_model.add(LSTM(units=100, return_sequences=True))\n",
    "LSTM_model.add(Dropout(0.2))\n",
    "\n",
    "LSTM_model.add(LSTM(units=100))\n",
    "LSTM_model.add(Dropout(0.2))\n",
    "\n",
    "LSTM_model.add(Dense(1))"
   ]
  },
  {
   "cell_type": "code",
   "execution_count": 248,
   "id": "0939f0ec-6165-4641-b2b7-291ff227c9ed",
   "metadata": {
    "tags": []
   },
   "outputs": [],
   "source": [
    "LSTM_model.compile(optimizer = 'adam', loss = tf.keras.losses.MeanSquaredError())"
   ]
  },
  {
   "cell_type": "code",
   "execution_count": null,
   "id": "7289a293-fb80-4025-a351-1650e0d74e7b",
   "metadata": {
    "tags": []
   },
   "outputs": [
    {
     "name": "stdout",
     "output_type": "stream",
     "text": [
      "Epoch 1/2\n",
      "50/50 [==============================] - 18s 350ms/step - loss: nan\n",
      "Epoch 2/2\n",
      "19/50 [==========>...................] - ETA: 10s - loss: nan"
     ]
    }
   ],
   "source": [
    "LSTM_model.fit(train_set, train_label, epochs = 2, batch_size = 20)"
   ]
  },
  {
   "cell_type": "code",
   "execution_count": 246,
   "id": "65250f9a-138e-4175-9bec-ba297b208fdc",
   "metadata": {
    "tags": []
   },
   "outputs": [
    {
     "data": {
      "text/plain": [
       "<keras.losses.MeanSquaredError at 0x1e325b40dd0>"
      ]
     },
     "execution_count": 246,
     "metadata": {},
     "output_type": "execute_result"
    }
   ],
   "source": [
    "tf.keras.losses.MeanSquaredError()"
   ]
  },
  {
   "cell_type": "code",
   "execution_count": null,
   "id": "c3923f2c-d19c-4c73-9cce-eb58d67a90c6",
   "metadata": {},
   "outputs": [],
   "source": []
  }
 ],
 "metadata": {
  "kernelspec": {
   "display_name": "Python 3 (ipykernel)",
   "language": "python",
   "name": "python3"
  },
  "language_info": {
   "codemirror_mode": {
    "name": "ipython",
    "version": 3
   },
   "file_extension": ".py",
   "mimetype": "text/x-python",
   "name": "python",
   "nbconvert_exporter": "python",
   "pygments_lexer": "ipython3",
   "version": "3.11.1"
  }
 },
 "nbformat": 4,
 "nbformat_minor": 5
}
