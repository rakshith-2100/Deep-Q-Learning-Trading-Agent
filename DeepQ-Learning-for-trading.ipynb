{
 "cells": [
  {
   "cell_type": "code",
   "execution_count": 3,
   "id": "e1b64ccd-b0ca-426f-a58c-41435d141111",
   "metadata": {},
   "outputs": [],
   "source": [
    "import numpy as np \n",
    "import pandas as pd \n",
    "import random \n",
    "import matplotlib.pyplot as plt \n",
    "import tensorflow as tf \n",
    "import math  \n",
    "from tqdm import tqdm_notebook , tqdm "
   ]
  },
  {
   "cell_type": "markdown",
   "id": "582f09f4-b719-440e-a220-0284572edf93",
   "metadata": {},
   "source": [
    "# DataLoading"
   ]
  },
  {
   "cell_type": "code",
   "execution_count": 22,
   "id": "253ba88b-abdf-4f49-ac6a-43e1875ebd9c",
   "metadata": {
    "tags": []
   },
   "outputs": [
    {
     "name": "stdout",
     "output_type": "stream",
     "text": [
      "         Date         Open         High          Low        Close  \\\n",
      "0  2011-01-03  6177.450195  6178.549805  6147.200195  6157.600098   \n",
      "1  2011-01-04  6172.750000  6181.049805  6124.399902  6146.350098   \n",
      "2  2011-01-05  6141.350098  6141.350098  6062.350098  6079.799805   \n",
      "3  2011-01-06  6107.000000  6116.149902  6022.299805  6048.250000   \n",
      "4  2011-01-07  6030.899902  6051.200195  5883.600098  5904.600098   \n",
      "\n",
      "     Adj Close  Volume  \n",
      "0  6157.600098     0.0  \n",
      "1  6146.350098     0.0  \n",
      "2  6079.799805     0.0  \n",
      "3  6048.250000     0.0  \n",
      "4  5904.600098     0.0  \n"
     ]
    }
   ],
   "source": [
    "df=pd.read_csv('2011-2019pricedata.csv')#loading Dataset\n",
    "df=df.dropna() #dropping Nan values\n",
    "print(df.head())"
   ]
  },
  {
   "cell_type": "code",
   "execution_count": 17,
   "id": "d90455c2-7dd1-4fab-ace2-63a979529182",
   "metadata": {},
   "outputs": [
    {
     "data": {
      "text/plain": [
       "(2052,)"
      ]
     },
     "execution_count": 17,
     "metadata": {},
     "output_type": "execute_result"
    }
   ],
   "source": [
    "# opening price would represent the price at a particular day\n",
    "dataset=df['Open']\n",
    "dataset.shape "
   ]
  },
  {
   "cell_type": "markdown",
   "id": "5df9402f-d96f-4a0d-bd70-50042fd0ff12",
   "metadata": {},
   "source": [
    "# Define State"
   ]
  },
  {
   "cell_type": "markdown",
   "id": "0921584f-f808-41e4-8d0b-0bc3c55de4da",
   "metadata": {},
   "source": [
    "State would basically include features  like current day price and would also include historical prices which would be used to represent current market conditions"
   ]
  },
  {
   "cell_type": "code",
   "execution_count": 18,
   "id": "b5a5b8c2-bd1a-479c-acec-48f83b17a136",
   "metadata": {
    "tags": []
   },
   "outputs": [],
   "source": [
    "def sigmoid(x):\n",
    "    return 1/1+math.exp(-x)"
   ]
  },
  {
   "cell_type": "code",
   "execution_count": 20,
   "id": "0b9f1ab4-1b7e-49cd-904a-7cd48e339b21",
   "metadata": {
    "tags": []
   },
   "outputs": [],
   "source": [
    "def state_creator(data, timestep, window_size):\n",
    "    starting_id = timestep - window_size + 1\n",
    "    if starting_id >= 0:\n",
    "        windowed_data = data[starting_id:timestep+1]\n",
    "    else:\n",
    "        windowed_data = - starting_id * [data[0]] + list(data[0:timestep+1])\n",
    "    state = []\n",
    "    for i in range(window_size - 1):\n",
    "        #state would basically consider the increase in prices for the past few days \n",
    "        #state would also use sigmoid function to recduce the skewness in the increase of price and ouputs between 0 and 1\n",
    "        state.append(sigmoid(windowed_data[i+1] - windowed_data[i]))\n",
    "    return np.array([state])"
   ]
  },
  {
   "cell_type": "markdown",
   "id": "df5bb71b-9a5b-4679-9762-1f49d425da38",
   "metadata": {},
   "source": [
    "# Building the Trader and Model"
   ]
  },
  {
   "cell_type": "code",
   "execution_count": 21,
   "id": "4b08be67-1c31-4e32-82ab-8b21ceda3de1",
   "metadata": {
    "tags": []
   },
   "outputs": [],
   "source": [
    "class ModelandTrade:\n",
    "    \n",
    "    def __init__(self, state_size, action_space=3, model_name=\"ModelandTrade\"):\n",
    "        \n",
    "        self.state_size = state_size\n",
    "        self.action_space = action_space\n",
    "        self.model_name = model_name\n",
    "        #model creation\n",
    "        self.model = self.model_builder()\n",
    "\n",
    "    def model_builder(self):\n",
    "        \n",
    "        model = tf.keras.models.Sequential()\n",
    "        model.add(tf.keras.layers.Dense(units=32, activation='relu', input_dim=self.state_size))\n",
    "        model.add(tf.keras.layers.Dense(units=64, activation='relu'))\n",
    "        model.add(tf.keras.layers.Dense(units=128, activation='relu'))\n",
    "        model.add(tf.keras.layers.Dense(units=self.action_space, activation='linear'))\n",
    "        #Mean Square Errror is used to compile the loss\n",
    "        model.compile(loss='mse', optimizer=tf.keras.optimizers.Adam(lr=0.001))\n",
    "    \n",
    "        return model\n",
    "    def "
   ]
  },
  {
   "cell_type": "markdown",
   "id": "981fdc7c-a05c-42f4-8c43-a60af32b456c",
   "metadata": {},
   "source": [
    "# Training the Dataset"
   ]
  },
  {
   "cell_type": "code",
   "execution_count": null,
   "id": "136166fb-3ce6-4ebb-b136-66343473d57c",
   "metadata": {},
   "outputs": [],
   "source": [
    "for "
   ]
  }
 ],
 "metadata": {
  "kernelspec": {
   "display_name": "Python 3 (ipykernel)",
   "language": "python",
   "name": "python3"
  },
  "language_info": {
   "codemirror_mode": {
    "name": "ipython",
    "version": 3
   },
   "file_extension": ".py",
   "mimetype": "text/x-python",
   "name": "python",
   "nbconvert_exporter": "python",
   "pygments_lexer": "ipython3",
   "version": "3.11.1"
  }
 },
 "nbformat": 4,
 "nbformat_minor": 5
}
